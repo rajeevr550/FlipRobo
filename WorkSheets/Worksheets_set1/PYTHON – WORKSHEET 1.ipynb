{
 "cells": [
  {
   "cell_type": "markdown",
   "id": "898cf8e2",
   "metadata": {},
   "source": [
    "# PYTHON – WORKSHEET 1"
   ]
  },
  {
   "cell_type": "markdown",
   "id": "dacc1b70",
   "metadata": {},
   "source": [
    "Write a python program to find the factorial of a number."
   ]
  },
  {
   "cell_type": "code",
   "execution_count": 1,
   "id": "1a2b74f4",
   "metadata": {},
   "outputs": [
    {
     "name": "stdout",
     "output_type": "stream",
     "text": [
      "120\n",
      "1\n",
      "3628800\n"
     ]
    }
   ],
   "source": [
    "def factorial(n):\n",
    "    if n == 0:\n",
    "        return 1\n",
    "    else:\n",
    "        return n * factorial(n-1)\n",
    "\n",
    "# Test the function with some example inputs\n",
    "print(factorial(5))  \n",
    "print(factorial(0))  \n",
    "print(factorial(10)) "
   ]
  },
  {
   "cell_type": "markdown",
   "id": "76a74b13",
   "metadata": {},
   "source": [
    "Write a python program to find whether a number is prime or composite."
   ]
  },
  {
   "cell_type": "code",
   "execution_count": 2,
   "id": "1b53d26a",
   "metadata": {},
   "outputs": [
    {
     "name": "stdout",
     "output_type": "stream",
     "text": [
      "True\n",
      "True\n",
      "False\n"
     ]
    }
   ],
   "source": [
    "def is_prime(num):\n",
    "    if num < 2:  # 0 and 1 are not prime\n",
    "        return False\n",
    "    elif num == 2:  # 2 is prime\n",
    "        return True\n",
    "    else:\n",
    "        # Check if the number is divisible by any integer from 2 to the square root of the number\n",
    "        for i in range(2, int(num ** 0.5) + 1):\n",
    "            if num % i == 0:\n",
    "                return False\n",
    "        return True\n",
    "\n",
    "# Test the function with some example inputs\n",
    "print(is_prime(2)) \n",
    "print(is_prime(11))  \n",
    "print(is_prime(15))  \n"
   ]
  },
  {
   "cell_type": "markdown",
   "id": "57bde28c",
   "metadata": {},
   "source": [
    "Write a python program to check whether a given string is palindrome or not."
   ]
  },
  {
   "cell_type": "code",
   "execution_count": 3,
   "id": "6c22e8d6",
   "metadata": {},
   "outputs": [
    {
     "name": "stdout",
     "output_type": "stream",
     "text": [
      "True\n",
      "False\n",
      "True\n"
     ]
    }
   ],
   "source": [
    "def is_palindrome(s):\n",
    "    # Remove any non-alphanumeric characters from the string and convert it to lowercase\n",
    "    s = ''.join(filter(str.isalnum, s)).lower()\n",
    "    # Check if the reversed string is equal to the original string\n",
    "    return s == s[::-1]\n",
    "\n",
    "# Test the function with some example inputs\n",
    "print(is_palindrome('racecar'))  \n",
    "print(is_palindrome('hello'))  \n",
    "print(is_palindrome('A man, a plan, a canal: Panama'))  \n"
   ]
  },
  {
   "cell_type": "markdown",
   "id": "7441d358",
   "metadata": {},
   "source": [
    "Write a Python program to get the third side of right-angled triangle from two given sides."
   ]
  },
  {
   "cell_type": "code",
   "execution_count": 4,
   "id": "7cd70d3f",
   "metadata": {},
   "outputs": [
    {
     "name": "stdout",
     "output_type": "stream",
     "text": [
      "Enter the length of the first side: 5\n",
      "Enter the length of the second side: 4\n",
      "The length of the hypotenuse is: 6.4031242374328485\n"
     ]
    }
   ],
   "source": [
    "import math\n",
    "\n",
    "# Function to calculate the length of the hypotenuse of a right-angled triangle\n",
    "def hypotenuse(a, b):\n",
    "    return math.sqrt(a**2 + b**2)\n",
    "\n",
    "# Input the lengths of the two sides from the user\n",
    "a = float(input(\"Enter the length of the first side: \"))\n",
    "b = float(input(\"Enter the length of the second side: \"))\n",
    "\n",
    "# Calculate the length of the hypotenuse\n",
    "c = hypotenuse(a, b)\n",
    "\n",
    "# Print the length of the hypotenuse\n",
    "print(\"The length of the hypotenuse is:\", c)\n"
   ]
  },
  {
   "cell_type": "markdown",
   "id": "d28e41b7",
   "metadata": {},
   "source": [
    "Write a python program to print the frequency of each of the characters present in a given string."
   ]
  },
  {
   "cell_type": "code",
   "execution_count": 5,
   "id": "fdc82213",
   "metadata": {},
   "outputs": [
    {
     "name": "stdout",
     "output_type": "stream",
     "text": [
      "Enter a string: Hello\n",
      "H: 1\n",
      "e: 1\n",
      "l: 2\n",
      "o: 1\n"
     ]
    }
   ],
   "source": [
    "string = input(\"Enter a string: \")\n",
    "\n",
    "# create a dictionary to store the frequency of each character\n",
    "char_freq = {}\n",
    "\n",
    "# iterate through the string and update the frequency count for each character\n",
    "for char in string:\n",
    "    if char in char_freq:\n",
    "        char_freq[char] += 1\n",
    "    else:\n",
    "        char_freq[char] = 1\n",
    "\n",
    "# print the frequency count for each character\n",
    "for char in char_freq:\n",
    "    print(f\"{char}: {char_freq[char]}\")\n"
   ]
  }
 ],
 "metadata": {
  "kernelspec": {
   "display_name": "Python 3 (ipykernel)",
   "language": "python",
   "name": "python3"
  },
  "language_info": {
   "codemirror_mode": {
    "name": "ipython",
    "version": 3
   },
   "file_extension": ".py",
   "mimetype": "text/x-python",
   "name": "python",
   "nbconvert_exporter": "python",
   "pygments_lexer": "ipython3",
   "version": "3.9.13"
  }
 },
 "nbformat": 4,
 "nbformat_minor": 5
}
