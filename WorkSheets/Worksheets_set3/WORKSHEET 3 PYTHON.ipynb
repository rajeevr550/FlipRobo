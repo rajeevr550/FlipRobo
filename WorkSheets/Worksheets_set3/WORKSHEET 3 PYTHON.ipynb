{
 "cells": [
  {
   "cell_type": "markdown",
   "id": "1a6ef274",
   "metadata": {},
   "source": [
    "Write a python function print pyramid of stars. Level of the pyramid should be taken as an input from the user. E.g.\n",
    "Input = 5"
   ]
  },
  {
   "cell_type": "code",
   "execution_count": 1,
   "id": "653b649f",
   "metadata": {},
   "outputs": [],
   "source": [
    "def print_pyramid(n):\n",
    "    for i in range(n):\n",
    "        print(' '*(n-i-1) + '*'*(2*i+1))\n"
   ]
  },
  {
   "cell_type": "code",
   "execution_count": 2,
   "id": "4793226a",
   "metadata": {},
   "outputs": [
    {
     "name": "stdout",
     "output_type": "stream",
     "text": [
      "Enter the level of the pyramid: 5\n",
      "    *\n",
      "   ***\n",
      "  *****\n",
      " *******\n",
      "*********\n"
     ]
    }
   ],
   "source": [
    "n = int(input(\"Enter the level of the pyramid: \"))\n",
    "print_pyramid(n)\n"
   ]
  },
  {
   "cell_type": "markdown",
   "id": "bf5491c5",
   "metadata": {},
   "source": [
    "Write a python function print Hourglass pattern. E.g.\n",
    "Input = 5"
   ]
  },
  {
   "cell_type": "code",
   "execution_count": 3,
   "id": "6e5dcbdd",
   "metadata": {},
   "outputs": [],
   "source": [
    "def print_hourglass(n):\n",
    "    for i in range(n, 0, -1):\n",
    "        print(' '*(n-i) + '*'*(2*i-1))\n",
    "    for i in range(2, n+1):\n",
    "        print(' '*(n-i) + '*'*(2*i-1))\n"
   ]
  },
  {
   "cell_type": "code",
   "execution_count": 4,
   "id": "054eeb91",
   "metadata": {},
   "outputs": [
    {
     "name": "stdout",
     "output_type": "stream",
     "text": [
      "Enter the size of the Hourglass: 5\n",
      "*********\n",
      " *******\n",
      "  *****\n",
      "   ***\n",
      "    *\n",
      "   ***\n",
      "  *****\n",
      " *******\n",
      "*********\n"
     ]
    }
   ],
   "source": [
    "n = int(input(\"Enter the size of the Hourglass: \"))\n",
    "print_hourglass(n)\n"
   ]
  },
  {
   "cell_type": "markdown",
   "id": "e0dfa0cd",
   "metadata": {},
   "source": [
    "Write a python function to print Pascal’s Triangle. The number of levels in the triangle must be taken as input by the user. E.g.\n",
    "Input = 5"
   ]
  },
  {
   "cell_type": "code",
   "execution_count": 5,
   "id": "1d6d3fe9",
   "metadata": {},
   "outputs": [],
   "source": [
    "def print_pascals_triangle(n):\n",
    "    for i in range(n):\n",
    "        row = [1]\n",
    "        for j in range(1, i+1):\n",
    "            row.append(row[-1]*(i-j+1)//j)\n",
    "        print(' '.join(str(x) for x in row).center(n*2))\n"
   ]
  },
  {
   "cell_type": "code",
   "execution_count": 6,
   "id": "1e7336b8",
   "metadata": {},
   "outputs": [
    {
     "name": "stdout",
     "output_type": "stream",
     "text": [
      "Enter the number of levels in Pascal's Triangle: 5\n",
      "    1     \n",
      "   1 1    \n",
      "  1 2 1   \n",
      " 1 3 3 1  \n",
      "1 4 6 4 1 \n"
     ]
    }
   ],
   "source": [
    "n = int(input(\"Enter the number of levels in Pascal's Triangle: \"))\n",
    "print_pascals_triangle(n)\n"
   ]
  },
  {
   "cell_type": "markdown",
   "id": "1ce1b9b6",
   "metadata": {},
   "source": [
    "Write a python function to print Diamond Shaped Pattern shown below. Function must take integer input which represents the number of stars in the middle most line. E.g.:\n",
    "Input = 5"
   ]
  },
  {
   "cell_type": "code",
   "execution_count": 7,
   "id": "48f5c1b7",
   "metadata": {},
   "outputs": [],
   "source": [
    "def print_diamond_pattern(n):\n",
    "    for i in range(n):\n",
    "        print(' '*(n-i-1) + '*'*(2*i+1))\n",
    "    for i in range(n-2, -1, -1):\n",
    "        print(' '*(n-i-1) + '*'*(2*i+1))\n"
   ]
  },
  {
   "cell_type": "code",
   "execution_count": 8,
   "id": "e11e754d",
   "metadata": {},
   "outputs": [
    {
     "name": "stdout",
     "output_type": "stream",
     "text": [
      "Enter the number of stars in the middle line: 5\n",
      "    *\n",
      "   ***\n",
      "  *****\n",
      " *******\n",
      "*********\n",
      " *******\n",
      "  *****\n",
      "   ***\n",
      "    *\n"
     ]
    }
   ],
   "source": [
    "n = int(input(\"Enter the number of stars in the middle line: \"))\n",
    "print_diamond_pattern(n)\n"
   ]
  },
  {
   "cell_type": "markdown",
   "id": "abc66965",
   "metadata": {},
   "source": [
    "Write a python function to print Diamond Shaped Character Pattern shown below. Function must take integer input within range 1 to 26, which represents the rank of the alphabet. E.g.:\n",
    "Input = 5"
   ]
  },
  {
   "cell_type": "code",
   "execution_count": 9,
   "id": "59dde166",
   "metadata": {},
   "outputs": [],
   "source": [
    "def print_diamond_char_pattern(n):\n",
    "    if n < 1 or n > 26:\n",
    "        print(\"Error: Input must be within the range 1 to 26\")\n",
    "        return\n",
    "    \n",
    "    # Calculate the number of spaces needed to center each row\n",
    "    max_spaces = n - 1\n",
    "    \n",
    "    # Print the top half of the diamond\n",
    "    for i in range(n):\n",
    "        num_chars = 1*i + 1\n",
    "        num_spaces = max_spaces - i\n",
    "        chars = [chr(65+j) for j in range(i+1)]\n",
    "        chars += chars[-6::-1]  # Add the characters in reverse order\n",
    "        print(' '*num_spaces + ' '.join(chars).center(num_chars*2-1))\n",
    "    \n",
    "    # Print the bottom half of the diamond\n",
    "    for i in range(n-2, -1, -1):\n",
    "        num_chars = 1*i + 1\n",
    "        num_spaces = max_spaces - i\n",
    "        chars = [chr(65+j) for j in range(i+1)]\n",
    "        chars += chars[-6::-1]  # Add the characters in reverse order\n",
    "        print(' '*num_spaces + ' '.join(chars).center(num_chars*2-1))\n"
   ]
  },
  {
   "cell_type": "code",
   "execution_count": 10,
   "id": "eca530d3",
   "metadata": {},
   "outputs": [
    {
     "name": "stdout",
     "output_type": "stream",
     "text": [
      "Enter the rank of the alphabet (1-26): 5\n",
      "    A\n",
      "   A B\n",
      "  A B C\n",
      " A B C D\n",
      "A B C D E\n",
      " A B C D\n",
      "  A B C\n",
      "   A B\n",
      "    A\n"
     ]
    }
   ],
   "source": [
    "n = int(input(\"Enter the rank of the alphabet (1-26): \"))\n",
    "print_diamond_char_pattern(n)\n"
   ]
  }
 ],
 "metadata": {
  "kernelspec": {
   "display_name": "Python 3 (ipykernel)",
   "language": "python",
   "name": "python3"
  },
  "language_info": {
   "codemirror_mode": {
    "name": "ipython",
    "version": 3
   },
   "file_extension": ".py",
   "mimetype": "text/x-python",
   "name": "python",
   "nbconvert_exporter": "python",
   "pygments_lexer": "ipython3",
   "version": "3.9.13"
  }
 },
 "nbformat": 4,
 "nbformat_minor": 5
}
