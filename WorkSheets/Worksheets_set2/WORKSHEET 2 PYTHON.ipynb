{
 "cells": [
  {
   "cell_type": "markdown",
   "id": "5a06b10c",
   "metadata": {},
   "source": [
    "Write a python program to solve a quadratic equation of the form ax^2+bx+c=0. Where a, b and c are to\n",
    "be taken by user input. Handle the erroneous input, such as ‘a’ should not be equal to 0."
   ]
  },
  {
   "cell_type": "code",
   "execution_count": 1,
   "id": "6e4565d1",
   "metadata": {},
   "outputs": [
    {
     "name": "stdout",
     "output_type": "stream",
     "text": [
      "Enter the value of a: 77\n",
      "Enter the value of b: 44\n",
      "Enter the value of c: 2\n",
      "The equation has two real roots:  -0.049793478901494166  and  -0.5216350925270772\n"
     ]
    }
   ],
   "source": [
    "import math\n",
    "\n",
    "a = float(input(\"Enter the value of a: \"))\n",
    "if a == 0:\n",
    "    print(\"Error: 'a' cannot be zero.\")\n",
    "else:\n",
    "    b = float(input(\"Enter the value of b: \"))\n",
    "    c = float(input(\"Enter the value of c: \"))\n",
    "    \n",
    "    # Calculate the discriminant\n",
    "    discriminant = b**2 - 4*a*c\n",
    "    \n",
    "    if discriminant < 0:\n",
    "        print(\"The equation has no real roots.\")\n",
    "    elif discriminant == 0:\n",
    "        root = -b / (2*a)\n",
    "        print(\"The equation has one real root: \", root)\n",
    "    else:\n",
    "        root1 = (-b + math.sqrt(discriminant)) / (2*a)\n",
    "        root2 = (-b - math.sqrt(discriminant)) / (2*a)\n",
    "        print(\"The equation has two real roots: \", root1, \" and \", root2)\n"
   ]
  },
  {
   "cell_type": "markdown",
   "id": "3fbbcec1",
   "metadata": {},
   "source": [
    "Write a python program to find the sum of first ‘n’ natural numbers without using any loop. Ask users\n",
    "to input the value of ‘n’"
   ]
  },
  {
   "cell_type": "code",
   "execution_count": 2,
   "id": "47fb96bc",
   "metadata": {},
   "outputs": [
    {
     "name": "stdout",
     "output_type": "stream",
     "text": [
      "Enter the value of n: 4\n",
      "The sum of the first 4 natural numbers is 10\n"
     ]
    }
   ],
   "source": [
    "n = int(input(\"Enter the value of n: \"))\n",
    "\n",
    "sum = (n * (n + 1)) // 2\n",
    "\n",
    "print(\"The sum of the first\", n, \"natural numbers is\", sum)\n"
   ]
  }
 ],
 "metadata": {
  "kernelspec": {
   "display_name": "Python 3 (ipykernel)",
   "language": "python",
   "name": "python3"
  },
  "language_info": {
   "codemirror_mode": {
    "name": "ipython",
    "version": 3
   },
   "file_extension": ".py",
   "mimetype": "text/x-python",
   "name": "python",
   "nbconvert_exporter": "python",
   "pygments_lexer": "ipython3",
   "version": "3.9.13"
  }
 },
 "nbformat": 4,
 "nbformat_minor": 5
}
