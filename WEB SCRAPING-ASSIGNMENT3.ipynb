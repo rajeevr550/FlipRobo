{
 "cells": [
  {
   "cell_type": "code",
   "execution_count": 1,
   "id": "4a5b7359",
   "metadata": {},
   "outputs": [],
   "source": [
    "import pandas as pd\n",
    "import selenium\n",
    "from selenium import webdriver\n",
    "from selenium.common.exceptions import StaleElementReferenceException, NoSuchElementException\n",
    "import time\n",
    "import requests"
   ]
  },
  {
   "cell_type": "code",
   "execution_count": 2,
   "id": "cb168d8d",
   "metadata": {},
   "outputs": [
    {
     "name": "stderr",
     "output_type": "stream",
     "text": [
      "/var/folders/tj/9f4bs_0n69b_w28_xyk24sfh0000gn/T/ipykernel_1735/1949518271.py:1: DeprecationWarning: executable_path has been deprecated, please pass in a Service object\n",
      "  driver= webdriver.Chrome('//Users/raj/Desktop/chromedriver')\n"
     ]
    }
   ],
   "source": [
    "driver= webdriver.Chrome('//Users/raj/Desktop/chromedriver')"
   ]
  },
  {
   "cell_type": "code",
   "execution_count": 3,
   "id": "8c4eed29",
   "metadata": {},
   "outputs": [],
   "source": [
    "driver.get('https://www.amazon.in/')"
   ]
  },
  {
   "cell_type": "code",
   "execution_count": 4,
   "id": "e88b9d59",
   "metadata": {},
   "outputs": [
    {
     "name": "stdout",
     "output_type": "stream",
     "text": [
      "Enter product here:-guitar\n"
     ]
    }
   ],
   "source": [
    "val = input('Enter product here:-')"
   ]
  },
  {
   "cell_type": "code",
   "execution_count": 5,
   "id": "f1dcb786",
   "metadata": {},
   "outputs": [],
   "source": [
    "search_bar = driver.find_element(\"xpath\",'//*[@id=\"twotabsearchtextbox\"]')    # Finding the search bar using it's xpath\n",
    "search_bar.send_keys(val)       # Inputing keyword to search \n",
    "search_button = driver.find_element(\"xpath\",'//*[@id=\"nav-search-submit-button\"]')    # Finding the xpath of search button\n",
    "search_button.click()        # Clicking the search button"
   ]
  },
  {
   "cell_type": "code",
   "execution_count": 6,
   "id": "8d662a07",
   "metadata": {},
   "outputs": [],
   "source": [
    "productName=[]"
   ]
  },
  {
   "cell_type": "code",
   "execution_count": 7,
   "id": "33006a5f",
   "metadata": {},
   "outputs": [
    {
     "name": "stdout",
     "output_type": "stream",
     "text": [
      "2 ['Kadence Guitar Acoustica Series, 41” Jumbo Size 6-strings Acoustic Guitar, Spruce body with Pick Guard A311 with bag… B07JKYWGJN (KAD-A-311)', 'Kadence Guitar Acoustica Series, 41” Jumbo Size 6-strings Acoustic Guitar, Spruce body with Pick Guard A311 with bag… B07JKYWGJN (KAD-A-311)']\n"
     ]
    }
   ],
   "source": [
    "#scraping the Product_Name \n",
    "PName=driver.find_elements(\"xpath\",\"//span[@class='a-size-medium a-color-base a-text-normal']\")\n",
    "for i in PName:\n",
    "    if i.text is None :\n",
    "        productName.append(\"--\") \n",
    "    else:\n",
    "        productName.append(i.text)\n",
    "print(len(productName),productName)"
   ]
  },
  {
   "cell_type": "markdown",
   "id": "b14847f6",
   "metadata": {},
   "source": [
    "# Q2"
   ]
  },
  {
   "cell_type": "code",
   "execution_count": 8,
   "id": "4fd353af",
   "metadata": {},
   "outputs": [
    {
     "name": "stdout",
     "output_type": "stream",
     "text": [
      "Product urls of page 1 has been scraped.\n",
      "Product urls of page 2 has been scraped.\n",
      "Product urls of page 3 has been scraped.\n",
      "Product urls of page 4 has been scraped.\n"
     ]
    }
   ],
   "source": [
    "start_page = 0\n",
    "end_page = 3\n",
    "urls = []\n",
    "for page in range(start_page,end_page+1):\n",
    "    try:\n",
    "        page_urls = driver.find_elements(\"xpath\",'//a[@class=\"a-link-normal s-no-outline\"]')\n",
    "        \n",
    "        # appending all the urls on current page to urls list\n",
    "        for url in page_urls:\n",
    "            url = url.get_attribute('href')     # Scraping the url from webelement\n",
    "            if url[0:4]=='http':                # Checking if the scraped data is a valid url or not\n",
    "                urls.append(url)                # Appending the url to urls list\n",
    "        print(\"Product urls of page {} has been scraped.\".format(page+1))\n",
    "        \n",
    "        # Moving to next page\n",
    "       # nxt_button = driver.find_element(\"xpath\",'//li[@class=\"a-last\"]/a')      # Locating the next_button which is active\n",
    "       # if nxt_button.text == 'Next→':                                            # Checking if the button located is next button\n",
    "           # nxt_button.click()                                                    # Clicking the next button\n",
    "           # time.sleep(5)                                                         # time delay of 5 seconds\n",
    "        # If the current active button is not next button, the we will check if the next button is inactive or not    \n",
    "        #elif driver.find_element(\"xpath\",'//li[@class=\"a-disabled a-last\"]/a').text == 'Next→':    \n",
    "          #  print(\"No new pages exist. Breaking the loop\")  # Printing message and breakinf loop if we have reached the last page\n",
    "          #  break\n",
    "            \n",
    "    except StaleElementReferenceException as e:             # Handling StaleElement Exception   \n",
    "        print(\"Stale Exception\")\n",
    "        next_page = nxt_button.get_attribute('href')        # Extracting the url of next page\n",
    "        driver.get(next_page)                               # ReLoading the next page"
   ]
  },
  {
   "cell_type": "code",
   "execution_count": 9,
   "id": "cb47e46d",
   "metadata": {},
   "outputs": [],
   "source": [
    "prod_dict = {}\n",
    "prod_dict['Brand']=[]\n",
    "prod_dict['Name']=[]\n",
    "prod_dict['Rating']=[]\n",
    "prod_dict['No. of ratings']=[]\n",
    "prod_dict['Price']=[]\n",
    "prod_dict['Return/Exchange']=[]\n",
    "prod_dict['Expected Delivery']=[] \n",
    "prod_dict['Availability']=[]\n",
    "prod_dict['Other Details']=[]\n",
    "prod_dict['URL']=[]"
   ]
  },
  {
   "cell_type": "code",
   "execution_count": 10,
   "id": "f98f61b5",
   "metadata": {},
   "outputs": [
    {
     "name": "stdout",
     "output_type": "stream",
     "text": [
      "Scraping URL =  https://www.amazon.in/sspa/click?ie=UTF8&spc=MTo4NjEyODc1MjQ0Njg3MTgyOjE2NzMwNDQ1NTI6c3BfYXRmOjIwMDYxNjIwNjk2MjA0OjowOjo&url=%2FKadence-Frontier-Acoustic-Guitar-Strings%2Fdp%2FB01GDZ46AA%2Fref%3Dsr_1_1_sspa%3Fkeywords%3Dguitar%26qid%3D1673044552%26sr%3D8-1-spons%26sp_csd%3Dd2lkZ2V0TmFtZT1zcF9hdGY%26psc%3D1%26smid%3DAM04Z7MH4HSDD\n",
      "Scraping URL =  https://www.amazon.in/sspa/click?ie=UTF8&spc=MTo4NjEyODc1MjQ0Njg3MTgyOjE2NzMwNDQ1NTI6c3BfYXRmOjIwMTAyODQxMTY0OTk4OjowOjo&url=%2FMedellin-Acoustic-Guitar-Carbon-Learning%2Fdp%2FB09MSGMQ3Y%2Fref%3Dsr_1_2_sspa%3Fkeywords%3Dguitar%26qid%3D1673044552%26sr%3D8-2-spons%26sp_csd%3Dd2lkZ2V0TmFtZT1zcF9hdGY%26psc%3D1%26smid%3DAM04Z7MH4HSDD\n",
      "Scraping URL =  https://www.amazon.in/sspa/click?ie=UTF8&spc=MTo4NjEyODc1MjQ0Njg3MTgyOjE2NzMwNDQ1NTI6c3BfYXRmOjIwMDU3MTkzMDU2MjA0OjowOjo&url=%2FKadence-Slowhand-Premium-Acoustic-Instrument%2Fdp%2FB077SZ667X%2Fref%3Dsr_1_3_sspa%3Fkeywords%3Dguitar%26qid%3D1673044552%26sr%3D8-3-spons%26sp_csd%3Dd2lkZ2V0TmFtZT1zcF9hdGY%26psc%3D1\n",
      "Scraping URL =  https://www.amazon.in/sspa/click?ie=UTF8&spc=MTo4NjEyODc1MjQ0Njg3MTgyOjE2NzMwNDQ1NTI6c3BfYXRmOjIwMTAyODQxMTY0NTk4OjowOjo&url=%2FMedellin-Acoustic-adjustable-Truss-rod-learning%2Fdp%2FB0BMKHTNX1%2Fref%3Dsr_1_4_sspa%3Fkeywords%3Dguitar%26qid%3D1673044552%26sr%3D8-4-spons%26sp_csd%3Dd2lkZ2V0TmFtZT1zcF9hdGY%26psc%3D1\n"
     ]
    }
   ],
   "source": [
    "for url in urls[:4]:\n",
    "    driver.get(url)                                                        # Loading the webpage by url\n",
    "    print(\"Scraping URL = \", url)\n",
    "    #time.sleep(2)\n",
    "    \n",
    "    try:\n",
    "        brand = driver.find_element(\"xpath\",'//a[@id=\"bylineInfo\"]')      # Extracting Brand from xpath\n",
    "        prod_dict['Brand'].append(brand.text)\n",
    "    except NoSuchElementException:\n",
    "        prod_dict['Brand'].append('-')\n",
    "    \n",
    "    try:\n",
    "        name = driver.find_element(\"xpath\",'//h1[@id=\"title\"]/span')      # Extracting Name from xpath\n",
    "        prod_dict['Name'].append(name.text)\n",
    "    except NoSuchElementException:\n",
    "        prod_dict['Name'].append('-')\n",
    "    \n",
    "    try:\n",
    "        rating = driver.find_element(\"xpath\",'//span[@id=\"acrPopover\"]')  # Extracting Ratings from xpath\n",
    "        prod_dict['Rating'].append(rating.get_attribute(\"title\"))\n",
    "    except NoSuchElementException:\n",
    "        prod_dict['Rating'].append('-')\n",
    "    \n",
    "    try:\n",
    "        n_rating = driver.find_element(\"xpath\",'//a[@id=\"acrCustomerReviewLink\"]/span')     # Extracting no. of Ratings from xpath\n",
    "        prod_dict['No. of ratings'].append(n_rating.text)\n",
    "    except NoSuchElementException:\n",
    "        prod_dict['No. of ratings'].append('-')\n",
    "    \n",
    "    try:\n",
    "        price = driver.find_element(\"xpath\",'//span[@id=\"priceblock_ourprice\"]')            # Extracting Price from xpath\n",
    "        prod_dict['Price'].append(price.text)\n",
    "    except NoSuchElementException:\n",
    "        prod_dict['Price'].append('-')\n",
    "    try:                                                                                     # Extracting Return/Exchange policy from xpath\n",
    "        ret = driver.find_element(\"xpath\",'//div[@data-name=\"RETURNS_POLICY\"]/span/div[2]/a')\n",
    "        prod_dict['Return/Exchange'].append(ret.text)\n",
    "    except NoSuchElementException:\n",
    "        prod_dict['Return/Exchange'].append('-')\n",
    "    try:\n",
    "        delivry = driver.find_element(\"xpath\",'//div[@id=\"ddmDeliveryMessage\"]/b')         # Extracting Expected Delivery from xpath\n",
    "        prod_dict['Expected Delivery'].append(delivry.text)\n",
    "    except NoSuchElementException:\n",
    "        prod_dict['Expected Delivery'].append('-')\n",
    "    \n",
    "    try:\n",
    "        avl = driver.find_element(\"xpath\",'//div[@id=\"availability\"]/span')                # Extracting Availability from xpath\n",
    "        prod_dict['Availability'].append(avl.text)\n",
    "    except NoSuchElementException:\n",
    "        prod_dict['Availability'].append('-')\n",
    "    \n",
    "    try:                                                                                    # Extracting Other Details from xpath\n",
    "        dtls = driver.find_element(\"xpath\",'//ul[@class=\"a-unordered-list a-vertical a-spacing-mini\"]')\n",
    "        prod_dict['Other Details'].append('  ||  '.join(dtls.text.split('\\n')))\n",
    "    except NoSuchElementException:\n",
    "        prod_dict['Other Details'].append('-')\n",
    "    \n",
    "    prod_dict['URL'].append(url)                                                            # Saving url\n",
    "    time.sleep(2)"
   ]
  },
  {
   "cell_type": "code",
   "execution_count": 11,
   "id": "b475b4d1",
   "metadata": {},
   "outputs": [
    {
     "data": {
      "text/html": [
       "<div>\n",
       "<style scoped>\n",
       "    .dataframe tbody tr th:only-of-type {\n",
       "        vertical-align: middle;\n",
       "    }\n",
       "\n",
       "    .dataframe tbody tr th {\n",
       "        vertical-align: top;\n",
       "    }\n",
       "\n",
       "    .dataframe thead th {\n",
       "        text-align: right;\n",
       "    }\n",
       "</style>\n",
       "<table border=\"1\" class=\"dataframe\">\n",
       "  <thead>\n",
       "    <tr style=\"text-align: right;\">\n",
       "      <th></th>\n",
       "      <th>Brand</th>\n",
       "      <th>Name</th>\n",
       "      <th>Rating</th>\n",
       "      <th>No. of ratings</th>\n",
       "      <th>Price</th>\n",
       "      <th>Return/Exchange</th>\n",
       "      <th>Expected Delivery</th>\n",
       "      <th>Availability</th>\n",
       "      <th>Other Details</th>\n",
       "      <th>URL</th>\n",
       "    </tr>\n",
       "  </thead>\n",
       "  <tbody>\n",
       "    <tr>\n",
       "      <th>0</th>\n",
       "      <td>Visit the Kadence Store</td>\n",
       "      <td>Kadence Frontier guitar with Online Guitar lea...</td>\n",
       "      <td>4.0 out of 5 stars</td>\n",
       "      <td>1,859 ratings</td>\n",
       "      <td>-</td>\n",
       "      <td>7 days Replacement</td>\n",
       "      <td>Monday, Jan 9</td>\n",
       "      <td></td>\n",
       "      <td>★ Design - The High Gloss finish, Simple head ...</td>\n",
       "      <td>https://www.amazon.in/sspa/click?ie=UTF8&amp;spc=M...</td>\n",
       "    </tr>\n",
       "    <tr>\n",
       "      <th>1</th>\n",
       "      <td>Brand: Medellin</td>\n",
       "      <td>Medellin M38 carbon fiber body 38 Incheses Aco...</td>\n",
       "      <td>3.8 out of 5 stars</td>\n",
       "      <td>181 ratings</td>\n",
       "      <td>-</td>\n",
       "      <td>7 days Replacement</td>\n",
       "      <td>-</td>\n",
       "      <td>In stock.</td>\n",
       "      <td>-</td>\n",
       "      <td>https://www.amazon.in/sspa/click?ie=UTF8&amp;spc=M...</td>\n",
       "    </tr>\n",
       "    <tr>\n",
       "      <th>2</th>\n",
       "      <td>Visit the Kadence Store</td>\n",
       "      <td>Kadence Slowhand Premium Jumbo Semi Acoustic G...</td>\n",
       "      <td>4.0 out of 5 stars</td>\n",
       "      <td>553 ratings</td>\n",
       "      <td>-</td>\n",
       "      <td>7 days Replacement</td>\n",
       "      <td>Thursday, Jan 12</td>\n",
       "      <td></td>\n",
       "      <td>ACOUSTIC-ELECTRIC GUITAR: Kadence Slowhand sem...</td>\n",
       "      <td>https://www.amazon.in/sspa/click?ie=UTF8&amp;spc=M...</td>\n",
       "    </tr>\n",
       "    <tr>\n",
       "      <th>3</th>\n",
       "      <td>Brand: Medellin</td>\n",
       "      <td>Medellin 38\" Acoustic Guitar premium wood with...</td>\n",
       "      <td>5.0 out of 5 stars</td>\n",
       "      <td>1 rating</td>\n",
       "      <td>-</td>\n",
       "      <td>7 days Replacement</td>\n",
       "      <td>-</td>\n",
       "      <td>In stock.</td>\n",
       "      <td>-</td>\n",
       "      <td>https://www.amazon.in/sspa/click?ie=UTF8&amp;spc=M...</td>\n",
       "    </tr>\n",
       "  </tbody>\n",
       "</table>\n",
       "</div>"
      ],
      "text/plain": [
       "                     Brand                                               Name  \\\n",
       "0  Visit the Kadence Store  Kadence Frontier guitar with Online Guitar lea...   \n",
       "1          Brand: Medellin  Medellin M38 carbon fiber body 38 Incheses Aco...   \n",
       "2  Visit the Kadence Store  Kadence Slowhand Premium Jumbo Semi Acoustic G...   \n",
       "3          Brand: Medellin  Medellin 38\" Acoustic Guitar premium wood with...   \n",
       "\n",
       "               Rating No. of ratings Price     Return/Exchange  \\\n",
       "0  4.0 out of 5 stars  1,859 ratings     -  7 days Replacement   \n",
       "1  3.8 out of 5 stars    181 ratings     -  7 days Replacement   \n",
       "2  4.0 out of 5 stars    553 ratings     -  7 days Replacement   \n",
       "3  5.0 out of 5 stars       1 rating     -  7 days Replacement   \n",
       "\n",
       "  Expected Delivery Availability  \\\n",
       "0     Monday, Jan 9                \n",
       "1                 -    In stock.   \n",
       "2  Thursday, Jan 12                \n",
       "3                 -    In stock.   \n",
       "\n",
       "                                       Other Details  \\\n",
       "0  ★ Design - The High Gloss finish, Simple head ...   \n",
       "1                                                  -   \n",
       "2  ACOUSTIC-ELECTRIC GUITAR: Kadence Slowhand sem...   \n",
       "3                                                  -   \n",
       "\n",
       "                                                 URL  \n",
       "0  https://www.amazon.in/sspa/click?ie=UTF8&spc=M...  \n",
       "1  https://www.amazon.in/sspa/click?ie=UTF8&spc=M...  \n",
       "2  https://www.amazon.in/sspa/click?ie=UTF8&spc=M...  \n",
       "3  https://www.amazon.in/sspa/click?ie=UTF8&spc=M...  "
      ]
     },
     "execution_count": 11,
     "metadata": {},
     "output_type": "execute_result"
    }
   ],
   "source": [
    "prod_df = pd.DataFrame.from_dict(prod_dict)\n",
    "prod_df"
   ]
  },
  {
   "cell_type": "code",
   "execution_count": 12,
   "id": "a5b950a0",
   "metadata": {},
   "outputs": [],
   "source": [
    "#saving data to csv\n",
    "prod_df.to_csv('Amazon_{}.csv'.format(input))"
   ]
  },
  {
   "cell_type": "markdown",
   "id": "55c590d2",
   "metadata": {},
   "source": [
    "# Q3"
   ]
  },
  {
   "cell_type": "code",
   "execution_count": 13,
   "id": "a75504a7",
   "metadata": {},
   "outputs": [
    {
     "name": "stderr",
     "output_type": "stream",
     "text": [
      "/var/folders/tj/9f4bs_0n69b_w28_xyk24sfh0000gn/T/ipykernel_1735/1949518271.py:1: DeprecationWarning: executable_path has been deprecated, please pass in a Service object\n",
      "  driver= webdriver.Chrome('//Users/raj/Desktop/chromedriver')\n"
     ]
    }
   ],
   "source": [
    "driver= webdriver.Chrome('//Users/raj/Desktop/chromedriver')"
   ]
  },
  {
   "cell_type": "code",
   "execution_count": 14,
   "id": "43f532d9",
   "metadata": {},
   "outputs": [],
   "source": [
    "driver.get('https://images.google.com/')"
   ]
  },
  {
   "cell_type": "code",
   "execution_count": 15,
   "id": "add4cd4f",
   "metadata": {},
   "outputs": [],
   "source": [
    "search_bar = driver.find_element(\"xpath\",'/html/body/div[1]/div[3]/form/div[1]/div[1]/div[1]/div/div[2]/input')    # Finding the search bar using it's xpath\n",
    "search_bar.send_keys(\"fruits\")       # Inputing \"banana\" keyword to search rock images\n",
    "search_button = driver.find_element(\"xpath\",'/html/body/div[1]/div[3]/form/div[1]/div[1]/div[1]/button')    # Finding the xpath of search button\n",
    "search_button.click()        # Clicking the search button\n"
   ]
  },
  {
   "cell_type": "code",
   "execution_count": 16,
   "id": "90af5a0f",
   "metadata": {},
   "outputs": [
    {
     "name": "stdout",
     "output_type": "stream",
     "text": [
      "start scrolling to generate more images on the page...\n"
     ]
    }
   ],
   "source": [
    "print(\"start scrolling to generate more images on the page...\")\n",
    "# 500 time we scroll down by 10000 in order to generate more images on the website\n",
    "for _ in range(500):\n",
    "    driver.execute_script(\"window.scrollBy(0,10000)\")"
   ]
  },
  {
   "cell_type": "code",
   "execution_count": 17,
   "id": "67338848",
   "metadata": {},
   "outputs": [],
   "source": [
    "images = driver.find_elements(\"xpath\",'//img[@class=\"rg_i Q4LuWd\"]')"
   ]
  },
  {
   "cell_type": "code",
   "execution_count": 18,
   "id": "94177c24",
   "metadata": {},
   "outputs": [
    {
     "data": {
      "text/plain": [
       "192"
      ]
     },
     "execution_count": 18,
     "metadata": {},
     "output_type": "execute_result"
    }
   ],
   "source": [
    "img_urls = []\n",
    "img_data = []\n",
    "for image in images:\n",
    "    source= image.get_attribute('src')\n",
    "    if source is not None:\n",
    "        if(source[0:4] == 'http'):\n",
    "            img_urls.append(source)\n",
    "len(img_urls)"
   ]
  },
  {
   "cell_type": "code",
   "execution_count": 19,
   "id": "8708e146",
   "metadata": {},
   "outputs": [
    {
     "name": "stdout",
     "output_type": "stream",
     "text": [
      "Downloading 0 of 100 images\n"
     ]
    },
    {
     "ename": "FileNotFoundError",
     "evalue": "[Errno 2] No such file or directory: '/Users/raj/Desktop/banana/img0.jpg'",
     "output_type": "error",
     "traceback": [
      "\u001b[0;31m---------------------------------------------------------------------------\u001b[0m",
      "\u001b[0;31mFileNotFoundError\u001b[0m                         Traceback (most recent call last)",
      "\u001b[0;32m/var/folders/tj/9f4bs_0n69b_w28_xyk24sfh0000gn/T/ipykernel_1735/2284289506.py\u001b[0m in \u001b[0;36m<module>\u001b[0;34m\u001b[0m\n\u001b[1;32m      4\u001b[0m     \u001b[0mprint\u001b[0m\u001b[0;34m(\u001b[0m\u001b[0;34m\"Downloading {0} of {1} images\"\u001b[0m \u001b[0;34m.\u001b[0m\u001b[0mformat\u001b[0m\u001b[0;34m(\u001b[0m\u001b[0mi\u001b[0m\u001b[0;34m,\u001b[0m \u001b[0;36m100\u001b[0m\u001b[0;34m)\u001b[0m\u001b[0;34m)\u001b[0m\u001b[0;34m\u001b[0m\u001b[0;34m\u001b[0m\u001b[0m\n\u001b[1;32m      5\u001b[0m     \u001b[0mresponse\u001b[0m\u001b[0;34m=\u001b[0m \u001b[0mrequests\u001b[0m\u001b[0;34m.\u001b[0m\u001b[0mget\u001b[0m\u001b[0;34m(\u001b[0m\u001b[0mimg_urls\u001b[0m\u001b[0;34m[\u001b[0m\u001b[0mi\u001b[0m\u001b[0;34m]\u001b[0m\u001b[0;34m)\u001b[0m\u001b[0;34m\u001b[0m\u001b[0;34m\u001b[0m\u001b[0m\n\u001b[0;32m----> 6\u001b[0;31m     \u001b[0mfile\u001b[0m \u001b[0;34m=\u001b[0m \u001b[0mopen\u001b[0m\u001b[0;34m(\u001b[0m\u001b[0;34m\"/Users/raj/Desktop/banana/img\"\u001b[0m\u001b[0;34m+\u001b[0m\u001b[0mstr\u001b[0m\u001b[0;34m(\u001b[0m\u001b[0mi\u001b[0m\u001b[0;34m)\u001b[0m\u001b[0;34m+\u001b[0m\u001b[0;34m\".jpg\"\u001b[0m\u001b[0;34m,\u001b[0m \u001b[0;34m\"wb\"\u001b[0m\u001b[0;34m)\u001b[0m\u001b[0;34m\u001b[0m\u001b[0;34m\u001b[0m\u001b[0m\n\u001b[0m\u001b[1;32m      7\u001b[0m     \u001b[0mfile\u001b[0m\u001b[0;34m.\u001b[0m\u001b[0mwrite\u001b[0m\u001b[0;34m(\u001b[0m\u001b[0mresponse\u001b[0m\u001b[0;34m.\u001b[0m\u001b[0mcontent\u001b[0m\u001b[0;34m)\u001b[0m\u001b[0;34m\u001b[0m\u001b[0;34m\u001b[0m\u001b[0m\n",
      "\u001b[0;31mFileNotFoundError\u001b[0m: [Errno 2] No such file or directory: '/Users/raj/Desktop/banana/img0.jpg'"
     ]
    }
   ],
   "source": [
    "for i in range(len(img_urls)):\n",
    "    if i >= 100:\n",
    "        break\n",
    "    print(\"Downloading {0} of {1} images\" .format(i, 100))\n",
    "    response= requests.get(img_urls[i])\n",
    "    file = open(\"/Users/raj/Desktop/banana/img\"+str(i)+\".jpg\", \"wb\")\n",
    "    file.write(response.content)"
   ]
  },
  {
   "cell_type": "markdown",
   "id": "f555da1a",
   "metadata": {},
   "source": [
    "#  Q4"
   ]
  },
  {
   "cell_type": "code",
   "execution_count": 20,
   "id": "34084e93",
   "metadata": {},
   "outputs": [
    {
     "name": "stderr",
     "output_type": "stream",
     "text": [
      "/var/folders/tj/9f4bs_0n69b_w28_xyk24sfh0000gn/T/ipykernel_1735/2815685439.py:1: DeprecationWarning: executable_path has been deprecated, please pass in a Service object\n",
      "  driver= webdriver.Chrome('//Users/raj/Desktop/chromedriver')\n"
     ]
    }
   ],
   "source": [
    "driver= webdriver.Chrome('//Users/raj/Desktop/chromedriver')\n",
    "url4=\"https://www.flipkart.com/search?q=smartphone&otracker=search&otracker1=search&marketplace=FLIPKART&as-show=on&as=off\"\n",
    "driver.get(url4)"
   ]
  },
  {
   "cell_type": "code",
   "execution_count": 21,
   "id": "9dc9a76b",
   "metadata": {},
   "outputs": [],
   "source": [
    "Brand_Name=[]\n",
    "Colour=[]\n",
    "Storage_RAM_ROM=[]\n",
    "P_F_Camera=[]\n",
    "Display_size_Resolution=[]\n",
    "ProcessorAndCores=[]\n",
    "Battery=[]\n",
    "Price=[]\n",
    "Product_URL=[]"
   ]
  },
  {
   "cell_type": "code",
   "execution_count": 22,
   "id": "b69c1159",
   "metadata": {},
   "outputs": [
    {
     "name": "stdout",
     "output_type": "stream",
     "text": [
      "24 ['REDMI Note 11 SE (Cosmic White, 64 GB)', 'MOTOROLA e40 (Carbon Gray, 64 GB)', 'REDMI 9i Sport (Coral Green, 64 GB)', 'POCO C31 (Shadow Gray, 64 GB)', 'POCO C31 (Royal Blue, 64 GB)', 'REDMI 9i Sport (Carbon Black, 64 GB)', 'MOTOROLA G32 (Mineral Gray, 64 GB)', 'REDMI 9i Sport (Metallic Blue, 64 GB)', 'MOTOROLA e40 (Pink Clay, 64 GB)', 'MOTOROLA G32 (Satin Silver, 64 GB)', 'MOTOROLA g52 (Metallic White, 128 GB)', 'MOTOROLA G62 5G (Midnight Gray, 128 GB)', 'APPLE iPhone 14 (Starlight, 128 GB)', 'APPLE iPhone 14 (Midnight, 128 GB)', 'MOTOROLA g52 (Charcoal Grey, 128 GB)', 'APPLE iPhone 14 (Purple, 128 GB)', 'REDMI 10 (Midnight Black, 64 GB)', 'POCO M4 Pro 5G (Cool Blue, 128 GB)', 'APPLE iPhone 13 (Starlight, 128 GB)', 'MOTOROLA G62 5G (Frosted Blue, 128 GB)', 'POCO X4 Pro 5G (Laser Blue, 128 GB)', 'APPLE iPhone 14 (Blue, 128 GB)', 'REDMI 10 (Caribbean Green, 64 GB)', 'Infinix HOT 20 Play (Luna Blue, 64 GB)']\n"
     ]
    }
   ],
   "source": [
    "BName=driver.find_elements(\"xpath\",\"//div[@class='_4rR01T']\")\n",
    "for i in BName:\n",
    "    if i.text is None :\n",
    "        Brand_Name.append(\"--\") \n",
    "    else:\n",
    "        Brand_Name.append(i.text)\n",
    "print(len(Brand_Name),Brand_Name)"
   ]
  },
  {
   "cell_type": "code",
   "execution_count": 23,
   "id": "76cd181d",
   "metadata": {},
   "outputs": [
    {
     "name": "stdout",
     "output_type": "stream",
     "text": [
      "24 ['6 GB RAM | 64 GB ROM | Expandable Upto 512 GB', '4 GB RAM | 64 GB ROM | Expandable Upto 1 TB', '4 GB RAM | 64 GB ROM | Expandable Upto 512 GB', '4 GB RAM | 64 GB ROM | Expandable Upto 512 GB', '4 GB RAM | 64 GB ROM | Expandable Upto 512 GB', '4 GB RAM | 64 GB ROM | Expandable Upto 512 GB', '4 GB RAM | 64 GB ROM', '4 GB RAM | 64 GB ROM | Expandable Upto 512 GB', '4 GB RAM | 64 GB ROM | Expandable Upto 1 TB', '4 GB RAM | 64 GB ROM', '6 GB RAM | 128 GB ROM', '6 GB RAM | 128 GB ROM', '128 GB ROM', '128 GB ROM', '6 GB RAM | 128 GB ROM', '128 GB ROM', '4 GB RAM | 64 GB ROM | Expandable Upto 1 TB', '6 GB RAM | 128 GB ROM | Expandable Upto 1 TB', '128 GB ROM', '6 GB RAM | 128 GB ROM', '6 GB RAM | 128 GB ROM | Expandable Upto 1 TB', '128 GB ROM', '4 GB RAM | 64 GB ROM | Expandable Upto 1 TB', '4 GB RAM | 64 GB ROM | Expandable Upto 256 GB']\n"
     ]
    }
   ],
   "source": [
    "#scraping the Storage_RAM_ROM \n",
    "ram=driver.find_elements(\"xpath\",\"//ul[@class='_1xgFaf']//li[1]\")\n",
    "for i in ram:\n",
    "    if i.text is None :\n",
    "        Storage_RAM_ROM.append(\"--\") \n",
    "    else:\n",
    "        Storage_RAM_ROM.append(i.text)\n",
    "print(len(Storage_RAM_ROM),Storage_RAM_ROM)"
   ]
  },
  {
   "cell_type": "code",
   "execution_count": 24,
   "id": "a100ca7f",
   "metadata": {},
   "outputs": [
    {
     "name": "stdout",
     "output_type": "stream",
     "text": [
      "24 ['64MP + 8MP + 2MP + 2MP | 13MP Front Camera', '48MP + 2MP + 2MP | 8MP Front Camera', '13MP Rear Camera | 5MP Front Camera', '13MP + 2MP + 2MP | 5MP Front Camera', '13MP + 2MP + 2MP | 5MP Front Camera', '13MP Rear Camera | 5MP Front Camera', '50MP + 8MP + 2MP | 16MP Front Camera', '13MP Rear Camera | 5MP Front Camera', '48MP + 2MP + 2MP | 8MP Front Camera', '50MP + 8MP + 2MP | 16MP Front Camera', '50MP + 8MP + 2MP | 16MP Front Camera', '50MP + 8MP + 2MP | 16MP Front Camera', '12MP + 12MP | 12MP Front Camera', '12MP + 12MP | 12MP Front Camera', '50MP + 8MP + 2MP | 16MP Front Camera', '12MP + 12MP | 12MP Front Camera', '50MP + 2MP | 5MP Front Camera', '50MP + 8MP | 16MP Front Camera', '12MP + 12MP | 12MP Front Camera', '50MP + 8MP + 2MP | 16MP Front Camera', '64MP + 8MP + 2MP | 16MP Front Camera', '12MP + 12MP | 12MP Front Camera', '50MP + 2MP | 5MP Front Camera', '13Mp + AI Lens | 8MP Front Camera']\n"
     ]
    }
   ],
   "source": [
    "#scraping the P_F_Camera \n",
    "PC=driver.find_elements(\"xpath\",\"//ul[@class='_1xgFaf']//li[3]\")\n",
    "for i in PC:\n",
    "    if i.text is None :\n",
    "        P_F_Camera.append(\"--\") \n",
    "    else:\n",
    "        P_F_Camera.append(i.text)\n",
    "print(len(P_F_Camera),P_F_Camera)"
   ]
  },
  {
   "cell_type": "code",
   "execution_count": 25,
   "id": "45b68205",
   "metadata": {},
   "outputs": [
    {
     "name": "stdout",
     "output_type": "stream",
     "text": [
      "24 ['16.33 cm (6.43 inch) Full HD+ Display', '16.51 cm (6.5 inch) HD+ Display', '16.59 cm (6.53 inch) HD+ Display', '16.59 cm (6.53 inch) HD+ Display', '16.59 cm (6.53 inch) HD+ Display', '16.59 cm (6.53 inch) HD+ Display', '16.64 cm (6.55 inch) Full HD+ Display', '16.59 cm (6.53 inch) HD+ Display', '16.51 cm (6.5 inch) HD+ Display', '16.64 cm (6.55 inch) Full HD+ Display', '16.76 cm (6.6 inch) Full HD+ Display', '16.64 cm (6.55 inch) Full HD+ Display', '15.49 cm (6.1 inch) Super Retina XDR Display', '15.49 cm (6.1 inch) Super Retina XDR Display', '16.76 cm (6.6 inch) Full HD+ Display', '15.49 cm (6.1 inch) Super Retina XDR Display', '17.02 cm (6.7 inch) HD+ Display', '16.76 cm (6.6 inch) Full HD+ Display', '15.49 cm (6.1 inch) Super Retina XDR Display', '16.64 cm (6.55 inch) Full HD+ Display', '16.94 cm (6.67 inch) Full HD+ Super AMOLED Display', '15.49 cm (6.1 inch) Super Retina XDR Display', '17.02 cm (6.7 inch) HD+ Display', '17.32 cm (6.82 inch) HD+ Display']\n"
     ]
    }
   ],
   "source": [
    "#scraping the Display_size_Resolution \n",
    "DS=driver.find_elements(\"xpath\",\"//ul[@class='_1xgFaf']//li[2]\")\n",
    "for i in DS:\n",
    "    if i.text is None :\n",
    "        Display_size_Resolution.append(\"--\") \n",
    "    else:\n",
    "        Display_size_Resolution.append(i.text)\n",
    "print(len(Display_size_Resolution),Display_size_Resolution)"
   ]
  },
  {
   "cell_type": "code",
   "execution_count": 26,
   "id": "1ea150f7",
   "metadata": {},
   "outputs": [
    {
     "name": "stdout",
     "output_type": "stream",
     "text": [
      "24 ['Mediatek Helio G95 Octa Core Processor', 'UNISOC T700 Processor', 'MediaTek Helio G25 Processor', 'MediaTek Helio G35 Processor', 'MediaTek G35 Processor', 'MediaTek Helio G25 Processor', 'Qualcomm Snapdragon 680 Processor', 'MediaTek Helio G25 Processor', 'UNISOC T700 Processor', 'Qualcomm Snapdragon 680 Processor', 'Qualcomm Snapdragon 680 Processor', 'Qualcomm Snapdragon 695 5G Processor', '1 Year Warranty for Phone and 6 Months Warranty for In-Box Accessories', '1 Year Warranty for Phone and 6 Months Warranty for In-Box Accessories', 'Qualcomm Snapdragon 680 Processor', '1 Year Warranty for Phone and 6 Months Warranty for In-Box Accessories', 'Qualcomm Snapdragon 680 Processor', 'Mediatek Dimensity 810 Processor', 'Brand Warranty for 1 Year', 'Qualcomm Snapdragon 695 5G Processor', 'Qualcomm Snapdragon 695 5G Processor', '1 Year Warranty for Phone and 6 Months Warranty for In-Box Accessories', 'Qualcomm Snapdragon 680 Processor', 'MediaTek G37 Processor']\n"
     ]
    }
   ],
   "source": [
    "#scraping the ProcessorAndCores \n",
    "P=driver.find_elements(\"xpath\",\"//ul[@class='_1xgFaf']//li[5]\")\n",
    "for i in P:\n",
    "    if i.text is None :\n",
    "        ProcessorAndCores.append(\"--\") \n",
    "    else:\n",
    "        ProcessorAndCores.append(i.text)\n",
    "print(len(ProcessorAndCores),ProcessorAndCores)"
   ]
  },
  {
   "cell_type": "code",
   "execution_count": 27,
   "id": "9ef93b49",
   "metadata": {},
   "outputs": [
    {
     "name": "stdout",
     "output_type": "stream",
     "text": [
      "24 ['5000 mAh Lithium Polymer Battery', '5000 mAh Battery', '5000 mAh Li-Polymer Battery', '5000 mAh Lithium-ion Polymer Battery', '5000 mAh Lithium-ion Polymer Battery', '5000 mAh Li-Polymer Battery', '5000 mAh Lithium Polymer Battery', '5000 mAh Li-Polymer Battery', '5000 mAh Battery', '5000 mAh Lithium Polymer Battery', '5000 mAh Lithium Battery', '5000 mAh Lithium Polymer Battery', 'A15 Bionic Chip, 6 Core Processor Processor', 'A15 Bionic Chip, 6 Core Processor Processor', '5000 mAh Lithium Battery', 'A15 Bionic Chip, 6 Core Processor Processor', '6000 mAh Lithium Polymer Battery', '5000 mAh Lithium-ion Polymer Battery', 'A15 Bionic Chip Processor', '5000 mAh Lithium Polymer Battery', '5000 mAh Lithium-ion Polymer Battery', 'A15 Bionic Chip, 6 Core Processor Processor', '6000 mAh Lithium Polymer Battery', '6000 mAh Li-ion Polymer Battery']\n"
     ]
    }
   ],
   "source": [
    "#scraping the Battery \n",
    "B=driver.find_elements(\"xpath\",\"//ul[@class='_1xgFaf']//li[4]\")\n",
    "for i in B:\n",
    "    if i.text is None :\n",
    "        Battery.append(\"--\") \n",
    "    else:\n",
    "        Battery.append(i.text)\n",
    "print(len(Battery),Battery)"
   ]
  },
  {
   "cell_type": "code",
   "execution_count": 28,
   "id": "ed1af757",
   "metadata": {},
   "outputs": [
    {
     "name": "stdout",
     "output_type": "stream",
     "text": [
      "24 ['₹11,499', '₹7,999', '₹7,199', '₹7,499', '₹7,499', '₹7,199', '₹9,999', '₹7,199', '₹7,999', '₹9,999', '₹12,999', '₹14,999', '₹73,990', '₹73,990', '₹12,999', '₹73,990', '₹9,499', '₹14,999', '₹61,999', '₹14,999', '₹16,999', '₹73,990', '₹9,499', '₹8,499']\n"
     ]
    }
   ],
   "source": [
    "#scraping the Price \n",
    "price=driver.find_elements(\"xpath\",\"//div[@class='_30jeq3 _1_WHN1']\")\n",
    "for i in price:\n",
    "    if i.text is None :\n",
    "        Price.append(\"--\") \n",
    "    else:\n",
    "        Price.append(i.text)\n",
    "print(len(Price),Price)"
   ]
  },
  {
   "cell_type": "code",
   "execution_count": 29,
   "id": "63f2e2aa",
   "metadata": {},
   "outputs": [
    {
     "data": {
      "text/html": [
       "<div>\n",
       "<style scoped>\n",
       "    .dataframe tbody tr th:only-of-type {\n",
       "        vertical-align: middle;\n",
       "    }\n",
       "\n",
       "    .dataframe tbody tr th {\n",
       "        vertical-align: top;\n",
       "    }\n",
       "\n",
       "    .dataframe thead th {\n",
       "        text-align: right;\n",
       "    }\n",
       "</style>\n",
       "<table border=\"1\" class=\"dataframe\">\n",
       "  <thead>\n",
       "    <tr style=\"text-align: right;\">\n",
       "      <th></th>\n",
       "      <th>Brand_Name</th>\n",
       "      <th>Storage_RAM_ROM</th>\n",
       "      <th>Amount P_F_Camera</th>\n",
       "      <th>Display_size_Resolution</th>\n",
       "      <th>ProcessorAndCores</th>\n",
       "      <th>Battery</th>\n",
       "      <th>Price</th>\n",
       "    </tr>\n",
       "  </thead>\n",
       "  <tbody>\n",
       "    <tr>\n",
       "      <th>0</th>\n",
       "      <td>REDMI Note 11 SE (Cosmic White, 64 GB)</td>\n",
       "      <td>6 GB RAM | 64 GB ROM | Expandable Upto 512 GB</td>\n",
       "      <td>64MP + 8MP + 2MP + 2MP | 13MP Front Camera</td>\n",
       "      <td>16.33 cm (6.43 inch) Full HD+ Display</td>\n",
       "      <td>Mediatek Helio G95 Octa Core Processor</td>\n",
       "      <td>5000 mAh Lithium Polymer Battery</td>\n",
       "      <td>₹11,499</td>\n",
       "    </tr>\n",
       "    <tr>\n",
       "      <th>1</th>\n",
       "      <td>MOTOROLA e40 (Carbon Gray, 64 GB)</td>\n",
       "      <td>4 GB RAM | 64 GB ROM | Expandable Upto 1 TB</td>\n",
       "      <td>48MP + 2MP + 2MP | 8MP Front Camera</td>\n",
       "      <td>16.51 cm (6.5 inch) HD+ Display</td>\n",
       "      <td>UNISOC T700 Processor</td>\n",
       "      <td>5000 mAh Battery</td>\n",
       "      <td>₹7,999</td>\n",
       "    </tr>\n",
       "    <tr>\n",
       "      <th>2</th>\n",
       "      <td>REDMI 9i Sport (Coral Green, 64 GB)</td>\n",
       "      <td>4 GB RAM | 64 GB ROM | Expandable Upto 512 GB</td>\n",
       "      <td>13MP Rear Camera | 5MP Front Camera</td>\n",
       "      <td>16.59 cm (6.53 inch) HD+ Display</td>\n",
       "      <td>MediaTek Helio G25 Processor</td>\n",
       "      <td>5000 mAh Li-Polymer Battery</td>\n",
       "      <td>₹7,199</td>\n",
       "    </tr>\n",
       "    <tr>\n",
       "      <th>3</th>\n",
       "      <td>POCO C31 (Shadow Gray, 64 GB)</td>\n",
       "      <td>4 GB RAM | 64 GB ROM | Expandable Upto 512 GB</td>\n",
       "      <td>13MP + 2MP + 2MP | 5MP Front Camera</td>\n",
       "      <td>16.59 cm (6.53 inch) HD+ Display</td>\n",
       "      <td>MediaTek Helio G35 Processor</td>\n",
       "      <td>5000 mAh Lithium-ion Polymer Battery</td>\n",
       "      <td>₹7,499</td>\n",
       "    </tr>\n",
       "    <tr>\n",
       "      <th>4</th>\n",
       "      <td>POCO C31 (Royal Blue, 64 GB)</td>\n",
       "      <td>4 GB RAM | 64 GB ROM | Expandable Upto 512 GB</td>\n",
       "      <td>13MP + 2MP + 2MP | 5MP Front Camera</td>\n",
       "      <td>16.59 cm (6.53 inch) HD+ Display</td>\n",
       "      <td>MediaTek G35 Processor</td>\n",
       "      <td>5000 mAh Lithium-ion Polymer Battery</td>\n",
       "      <td>₹7,499</td>\n",
       "    </tr>\n",
       "    <tr>\n",
       "      <th>5</th>\n",
       "      <td>REDMI 9i Sport (Carbon Black, 64 GB)</td>\n",
       "      <td>4 GB RAM | 64 GB ROM | Expandable Upto 512 GB</td>\n",
       "      <td>13MP Rear Camera | 5MP Front Camera</td>\n",
       "      <td>16.59 cm (6.53 inch) HD+ Display</td>\n",
       "      <td>MediaTek Helio G25 Processor</td>\n",
       "      <td>5000 mAh Li-Polymer Battery</td>\n",
       "      <td>₹7,199</td>\n",
       "    </tr>\n",
       "    <tr>\n",
       "      <th>6</th>\n",
       "      <td>MOTOROLA G32 (Mineral Gray, 64 GB)</td>\n",
       "      <td>4 GB RAM | 64 GB ROM</td>\n",
       "      <td>50MP + 8MP + 2MP | 16MP Front Camera</td>\n",
       "      <td>16.64 cm (6.55 inch) Full HD+ Display</td>\n",
       "      <td>Qualcomm Snapdragon 680 Processor</td>\n",
       "      <td>5000 mAh Lithium Polymer Battery</td>\n",
       "      <td>₹9,999</td>\n",
       "    </tr>\n",
       "    <tr>\n",
       "      <th>7</th>\n",
       "      <td>REDMI 9i Sport (Metallic Blue, 64 GB)</td>\n",
       "      <td>4 GB RAM | 64 GB ROM | Expandable Upto 512 GB</td>\n",
       "      <td>13MP Rear Camera | 5MP Front Camera</td>\n",
       "      <td>16.59 cm (6.53 inch) HD+ Display</td>\n",
       "      <td>MediaTek Helio G25 Processor</td>\n",
       "      <td>5000 mAh Li-Polymer Battery</td>\n",
       "      <td>₹7,199</td>\n",
       "    </tr>\n",
       "    <tr>\n",
       "      <th>8</th>\n",
       "      <td>MOTOROLA e40 (Pink Clay, 64 GB)</td>\n",
       "      <td>4 GB RAM | 64 GB ROM | Expandable Upto 1 TB</td>\n",
       "      <td>48MP + 2MP + 2MP | 8MP Front Camera</td>\n",
       "      <td>16.51 cm (6.5 inch) HD+ Display</td>\n",
       "      <td>UNISOC T700 Processor</td>\n",
       "      <td>5000 mAh Battery</td>\n",
       "      <td>₹7,999</td>\n",
       "    </tr>\n",
       "    <tr>\n",
       "      <th>9</th>\n",
       "      <td>MOTOROLA G32 (Satin Silver, 64 GB)</td>\n",
       "      <td>4 GB RAM | 64 GB ROM</td>\n",
       "      <td>50MP + 8MP + 2MP | 16MP Front Camera</td>\n",
       "      <td>16.64 cm (6.55 inch) Full HD+ Display</td>\n",
       "      <td>Qualcomm Snapdragon 680 Processor</td>\n",
       "      <td>5000 mAh Lithium Polymer Battery</td>\n",
       "      <td>₹9,999</td>\n",
       "    </tr>\n",
       "    <tr>\n",
       "      <th>10</th>\n",
       "      <td>MOTOROLA g52 (Metallic White, 128 GB)</td>\n",
       "      <td>6 GB RAM | 128 GB ROM</td>\n",
       "      <td>50MP + 8MP + 2MP | 16MP Front Camera</td>\n",
       "      <td>16.76 cm (6.6 inch) Full HD+ Display</td>\n",
       "      <td>Qualcomm Snapdragon 680 Processor</td>\n",
       "      <td>5000 mAh Lithium Battery</td>\n",
       "      <td>₹12,999</td>\n",
       "    </tr>\n",
       "    <tr>\n",
       "      <th>11</th>\n",
       "      <td>MOTOROLA G62 5G (Midnight Gray, 128 GB)</td>\n",
       "      <td>6 GB RAM | 128 GB ROM</td>\n",
       "      <td>50MP + 8MP + 2MP | 16MP Front Camera</td>\n",
       "      <td>16.64 cm (6.55 inch) Full HD+ Display</td>\n",
       "      <td>Qualcomm Snapdragon 695 5G Processor</td>\n",
       "      <td>5000 mAh Lithium Polymer Battery</td>\n",
       "      <td>₹14,999</td>\n",
       "    </tr>\n",
       "    <tr>\n",
       "      <th>12</th>\n",
       "      <td>APPLE iPhone 14 (Starlight, 128 GB)</td>\n",
       "      <td>128 GB ROM</td>\n",
       "      <td>12MP + 12MP | 12MP Front Camera</td>\n",
       "      <td>15.49 cm (6.1 inch) Super Retina XDR Display</td>\n",
       "      <td>1 Year Warranty for Phone and 6 Months Warrant...</td>\n",
       "      <td>A15 Bionic Chip, 6 Core Processor Processor</td>\n",
       "      <td>₹73,990</td>\n",
       "    </tr>\n",
       "    <tr>\n",
       "      <th>13</th>\n",
       "      <td>APPLE iPhone 14 (Midnight, 128 GB)</td>\n",
       "      <td>128 GB ROM</td>\n",
       "      <td>12MP + 12MP | 12MP Front Camera</td>\n",
       "      <td>15.49 cm (6.1 inch) Super Retina XDR Display</td>\n",
       "      <td>1 Year Warranty for Phone and 6 Months Warrant...</td>\n",
       "      <td>A15 Bionic Chip, 6 Core Processor Processor</td>\n",
       "      <td>₹73,990</td>\n",
       "    </tr>\n",
       "    <tr>\n",
       "      <th>14</th>\n",
       "      <td>MOTOROLA g52 (Charcoal Grey, 128 GB)</td>\n",
       "      <td>6 GB RAM | 128 GB ROM</td>\n",
       "      <td>50MP + 8MP + 2MP | 16MP Front Camera</td>\n",
       "      <td>16.76 cm (6.6 inch) Full HD+ Display</td>\n",
       "      <td>Qualcomm Snapdragon 680 Processor</td>\n",
       "      <td>5000 mAh Lithium Battery</td>\n",
       "      <td>₹12,999</td>\n",
       "    </tr>\n",
       "    <tr>\n",
       "      <th>15</th>\n",
       "      <td>APPLE iPhone 14 (Purple, 128 GB)</td>\n",
       "      <td>128 GB ROM</td>\n",
       "      <td>12MP + 12MP | 12MP Front Camera</td>\n",
       "      <td>15.49 cm (6.1 inch) Super Retina XDR Display</td>\n",
       "      <td>1 Year Warranty for Phone and 6 Months Warrant...</td>\n",
       "      <td>A15 Bionic Chip, 6 Core Processor Processor</td>\n",
       "      <td>₹73,990</td>\n",
       "    </tr>\n",
       "    <tr>\n",
       "      <th>16</th>\n",
       "      <td>REDMI 10 (Midnight Black, 64 GB)</td>\n",
       "      <td>4 GB RAM | 64 GB ROM | Expandable Upto 1 TB</td>\n",
       "      <td>50MP + 2MP | 5MP Front Camera</td>\n",
       "      <td>17.02 cm (6.7 inch) HD+ Display</td>\n",
       "      <td>Qualcomm Snapdragon 680 Processor</td>\n",
       "      <td>6000 mAh Lithium Polymer Battery</td>\n",
       "      <td>₹9,499</td>\n",
       "    </tr>\n",
       "    <tr>\n",
       "      <th>17</th>\n",
       "      <td>POCO M4 Pro 5G (Cool Blue, 128 GB)</td>\n",
       "      <td>6 GB RAM | 128 GB ROM | Expandable Upto 1 TB</td>\n",
       "      <td>50MP + 8MP | 16MP Front Camera</td>\n",
       "      <td>16.76 cm (6.6 inch) Full HD+ Display</td>\n",
       "      <td>Mediatek Dimensity 810 Processor</td>\n",
       "      <td>5000 mAh Lithium-ion Polymer Battery</td>\n",
       "      <td>₹14,999</td>\n",
       "    </tr>\n",
       "    <tr>\n",
       "      <th>18</th>\n",
       "      <td>APPLE iPhone 13 (Starlight, 128 GB)</td>\n",
       "      <td>128 GB ROM</td>\n",
       "      <td>12MP + 12MP | 12MP Front Camera</td>\n",
       "      <td>15.49 cm (6.1 inch) Super Retina XDR Display</td>\n",
       "      <td>Brand Warranty for 1 Year</td>\n",
       "      <td>A15 Bionic Chip Processor</td>\n",
       "      <td>₹61,999</td>\n",
       "    </tr>\n",
       "    <tr>\n",
       "      <th>19</th>\n",
       "      <td>MOTOROLA G62 5G (Frosted Blue, 128 GB)</td>\n",
       "      <td>6 GB RAM | 128 GB ROM</td>\n",
       "      <td>50MP + 8MP + 2MP | 16MP Front Camera</td>\n",
       "      <td>16.64 cm (6.55 inch) Full HD+ Display</td>\n",
       "      <td>Qualcomm Snapdragon 695 5G Processor</td>\n",
       "      <td>5000 mAh Lithium Polymer Battery</td>\n",
       "      <td>₹14,999</td>\n",
       "    </tr>\n",
       "    <tr>\n",
       "      <th>20</th>\n",
       "      <td>POCO X4 Pro 5G (Laser Blue, 128 GB)</td>\n",
       "      <td>6 GB RAM | 128 GB ROM | Expandable Upto 1 TB</td>\n",
       "      <td>64MP + 8MP + 2MP | 16MP Front Camera</td>\n",
       "      <td>16.94 cm (6.67 inch) Full HD+ Super AMOLED Dis...</td>\n",
       "      <td>Qualcomm Snapdragon 695 5G Processor</td>\n",
       "      <td>5000 mAh Lithium-ion Polymer Battery</td>\n",
       "      <td>₹16,999</td>\n",
       "    </tr>\n",
       "    <tr>\n",
       "      <th>21</th>\n",
       "      <td>APPLE iPhone 14 (Blue, 128 GB)</td>\n",
       "      <td>128 GB ROM</td>\n",
       "      <td>12MP + 12MP | 12MP Front Camera</td>\n",
       "      <td>15.49 cm (6.1 inch) Super Retina XDR Display</td>\n",
       "      <td>1 Year Warranty for Phone and 6 Months Warrant...</td>\n",
       "      <td>A15 Bionic Chip, 6 Core Processor Processor</td>\n",
       "      <td>₹73,990</td>\n",
       "    </tr>\n",
       "    <tr>\n",
       "      <th>22</th>\n",
       "      <td>REDMI 10 (Caribbean Green, 64 GB)</td>\n",
       "      <td>4 GB RAM | 64 GB ROM | Expandable Upto 1 TB</td>\n",
       "      <td>50MP + 2MP | 5MP Front Camera</td>\n",
       "      <td>17.02 cm (6.7 inch) HD+ Display</td>\n",
       "      <td>Qualcomm Snapdragon 680 Processor</td>\n",
       "      <td>6000 mAh Lithium Polymer Battery</td>\n",
       "      <td>₹9,499</td>\n",
       "    </tr>\n",
       "    <tr>\n",
       "      <th>23</th>\n",
       "      <td>Infinix HOT 20 Play (Luna Blue, 64 GB)</td>\n",
       "      <td>4 GB RAM | 64 GB ROM | Expandable Upto 256 GB</td>\n",
       "      <td>13Mp + AI Lens | 8MP Front Camera</td>\n",
       "      <td>17.32 cm (6.82 inch) HD+ Display</td>\n",
       "      <td>MediaTek G37 Processor</td>\n",
       "      <td>6000 mAh Li-ion Polymer Battery</td>\n",
       "      <td>₹8,499</td>\n",
       "    </tr>\n",
       "  </tbody>\n",
       "</table>\n",
       "</div>"
      ],
      "text/plain": [
       "                                 Brand_Name  \\\n",
       "0    REDMI Note 11 SE (Cosmic White, 64 GB)   \n",
       "1         MOTOROLA e40 (Carbon Gray, 64 GB)   \n",
       "2       REDMI 9i Sport (Coral Green, 64 GB)   \n",
       "3             POCO C31 (Shadow Gray, 64 GB)   \n",
       "4              POCO C31 (Royal Blue, 64 GB)   \n",
       "5      REDMI 9i Sport (Carbon Black, 64 GB)   \n",
       "6        MOTOROLA G32 (Mineral Gray, 64 GB)   \n",
       "7     REDMI 9i Sport (Metallic Blue, 64 GB)   \n",
       "8           MOTOROLA e40 (Pink Clay, 64 GB)   \n",
       "9        MOTOROLA G32 (Satin Silver, 64 GB)   \n",
       "10    MOTOROLA g52 (Metallic White, 128 GB)   \n",
       "11  MOTOROLA G62 5G (Midnight Gray, 128 GB)   \n",
       "12      APPLE iPhone 14 (Starlight, 128 GB)   \n",
       "13       APPLE iPhone 14 (Midnight, 128 GB)   \n",
       "14     MOTOROLA g52 (Charcoal Grey, 128 GB)   \n",
       "15         APPLE iPhone 14 (Purple, 128 GB)   \n",
       "16         REDMI 10 (Midnight Black, 64 GB)   \n",
       "17       POCO M4 Pro 5G (Cool Blue, 128 GB)   \n",
       "18      APPLE iPhone 13 (Starlight, 128 GB)   \n",
       "19   MOTOROLA G62 5G (Frosted Blue, 128 GB)   \n",
       "20      POCO X4 Pro 5G (Laser Blue, 128 GB)   \n",
       "21           APPLE iPhone 14 (Blue, 128 GB)   \n",
       "22        REDMI 10 (Caribbean Green, 64 GB)   \n",
       "23   Infinix HOT 20 Play (Luna Blue, 64 GB)   \n",
       "\n",
       "                                  Storage_RAM_ROM  \\\n",
       "0   6 GB RAM | 64 GB ROM | Expandable Upto 512 GB   \n",
       "1     4 GB RAM | 64 GB ROM | Expandable Upto 1 TB   \n",
       "2   4 GB RAM | 64 GB ROM | Expandable Upto 512 GB   \n",
       "3   4 GB RAM | 64 GB ROM | Expandable Upto 512 GB   \n",
       "4   4 GB RAM | 64 GB ROM | Expandable Upto 512 GB   \n",
       "5   4 GB RAM | 64 GB ROM | Expandable Upto 512 GB   \n",
       "6                            4 GB RAM | 64 GB ROM   \n",
       "7   4 GB RAM | 64 GB ROM | Expandable Upto 512 GB   \n",
       "8     4 GB RAM | 64 GB ROM | Expandable Upto 1 TB   \n",
       "9                            4 GB RAM | 64 GB ROM   \n",
       "10                          6 GB RAM | 128 GB ROM   \n",
       "11                          6 GB RAM | 128 GB ROM   \n",
       "12                                     128 GB ROM   \n",
       "13                                     128 GB ROM   \n",
       "14                          6 GB RAM | 128 GB ROM   \n",
       "15                                     128 GB ROM   \n",
       "16    4 GB RAM | 64 GB ROM | Expandable Upto 1 TB   \n",
       "17   6 GB RAM | 128 GB ROM | Expandable Upto 1 TB   \n",
       "18                                     128 GB ROM   \n",
       "19                          6 GB RAM | 128 GB ROM   \n",
       "20   6 GB RAM | 128 GB ROM | Expandable Upto 1 TB   \n",
       "21                                     128 GB ROM   \n",
       "22    4 GB RAM | 64 GB ROM | Expandable Upto 1 TB   \n",
       "23  4 GB RAM | 64 GB ROM | Expandable Upto 256 GB   \n",
       "\n",
       "                             Amount P_F_Camera  \\\n",
       "0   64MP + 8MP + 2MP + 2MP | 13MP Front Camera   \n",
       "1          48MP + 2MP + 2MP | 8MP Front Camera   \n",
       "2          13MP Rear Camera | 5MP Front Camera   \n",
       "3          13MP + 2MP + 2MP | 5MP Front Camera   \n",
       "4          13MP + 2MP + 2MP | 5MP Front Camera   \n",
       "5          13MP Rear Camera | 5MP Front Camera   \n",
       "6         50MP + 8MP + 2MP | 16MP Front Camera   \n",
       "7          13MP Rear Camera | 5MP Front Camera   \n",
       "8          48MP + 2MP + 2MP | 8MP Front Camera   \n",
       "9         50MP + 8MP + 2MP | 16MP Front Camera   \n",
       "10        50MP + 8MP + 2MP | 16MP Front Camera   \n",
       "11        50MP + 8MP + 2MP | 16MP Front Camera   \n",
       "12             12MP + 12MP | 12MP Front Camera   \n",
       "13             12MP + 12MP | 12MP Front Camera   \n",
       "14        50MP + 8MP + 2MP | 16MP Front Camera   \n",
       "15             12MP + 12MP | 12MP Front Camera   \n",
       "16               50MP + 2MP | 5MP Front Camera   \n",
       "17              50MP + 8MP | 16MP Front Camera   \n",
       "18             12MP + 12MP | 12MP Front Camera   \n",
       "19        50MP + 8MP + 2MP | 16MP Front Camera   \n",
       "20        64MP + 8MP + 2MP | 16MP Front Camera   \n",
       "21             12MP + 12MP | 12MP Front Camera   \n",
       "22               50MP + 2MP | 5MP Front Camera   \n",
       "23           13Mp + AI Lens | 8MP Front Camera   \n",
       "\n",
       "                              Display_size_Resolution  \\\n",
       "0               16.33 cm (6.43 inch) Full HD+ Display   \n",
       "1                     16.51 cm (6.5 inch) HD+ Display   \n",
       "2                    16.59 cm (6.53 inch) HD+ Display   \n",
       "3                    16.59 cm (6.53 inch) HD+ Display   \n",
       "4                    16.59 cm (6.53 inch) HD+ Display   \n",
       "5                    16.59 cm (6.53 inch) HD+ Display   \n",
       "6               16.64 cm (6.55 inch) Full HD+ Display   \n",
       "7                    16.59 cm (6.53 inch) HD+ Display   \n",
       "8                     16.51 cm (6.5 inch) HD+ Display   \n",
       "9               16.64 cm (6.55 inch) Full HD+ Display   \n",
       "10               16.76 cm (6.6 inch) Full HD+ Display   \n",
       "11              16.64 cm (6.55 inch) Full HD+ Display   \n",
       "12       15.49 cm (6.1 inch) Super Retina XDR Display   \n",
       "13       15.49 cm (6.1 inch) Super Retina XDR Display   \n",
       "14               16.76 cm (6.6 inch) Full HD+ Display   \n",
       "15       15.49 cm (6.1 inch) Super Retina XDR Display   \n",
       "16                    17.02 cm (6.7 inch) HD+ Display   \n",
       "17               16.76 cm (6.6 inch) Full HD+ Display   \n",
       "18       15.49 cm (6.1 inch) Super Retina XDR Display   \n",
       "19              16.64 cm (6.55 inch) Full HD+ Display   \n",
       "20  16.94 cm (6.67 inch) Full HD+ Super AMOLED Dis...   \n",
       "21       15.49 cm (6.1 inch) Super Retina XDR Display   \n",
       "22                    17.02 cm (6.7 inch) HD+ Display   \n",
       "23                   17.32 cm (6.82 inch) HD+ Display   \n",
       "\n",
       "                                    ProcessorAndCores  \\\n",
       "0              Mediatek Helio G95 Octa Core Processor   \n",
       "1                               UNISOC T700 Processor   \n",
       "2                        MediaTek Helio G25 Processor   \n",
       "3                        MediaTek Helio G35 Processor   \n",
       "4                              MediaTek G35 Processor   \n",
       "5                        MediaTek Helio G25 Processor   \n",
       "6                   Qualcomm Snapdragon 680 Processor   \n",
       "7                        MediaTek Helio G25 Processor   \n",
       "8                               UNISOC T700 Processor   \n",
       "9                   Qualcomm Snapdragon 680 Processor   \n",
       "10                  Qualcomm Snapdragon 680 Processor   \n",
       "11               Qualcomm Snapdragon 695 5G Processor   \n",
       "12  1 Year Warranty for Phone and 6 Months Warrant...   \n",
       "13  1 Year Warranty for Phone and 6 Months Warrant...   \n",
       "14                  Qualcomm Snapdragon 680 Processor   \n",
       "15  1 Year Warranty for Phone and 6 Months Warrant...   \n",
       "16                  Qualcomm Snapdragon 680 Processor   \n",
       "17                   Mediatek Dimensity 810 Processor   \n",
       "18                          Brand Warranty for 1 Year   \n",
       "19               Qualcomm Snapdragon 695 5G Processor   \n",
       "20               Qualcomm Snapdragon 695 5G Processor   \n",
       "21  1 Year Warranty for Phone and 6 Months Warrant...   \n",
       "22                  Qualcomm Snapdragon 680 Processor   \n",
       "23                             MediaTek G37 Processor   \n",
       "\n",
       "                                        Battery    Price  \n",
       "0              5000 mAh Lithium Polymer Battery  ₹11,499  \n",
       "1                              5000 mAh Battery   ₹7,999  \n",
       "2                   5000 mAh Li-Polymer Battery   ₹7,199  \n",
       "3          5000 mAh Lithium-ion Polymer Battery   ₹7,499  \n",
       "4          5000 mAh Lithium-ion Polymer Battery   ₹7,499  \n",
       "5                   5000 mAh Li-Polymer Battery   ₹7,199  \n",
       "6              5000 mAh Lithium Polymer Battery   ₹9,999  \n",
       "7                   5000 mAh Li-Polymer Battery   ₹7,199  \n",
       "8                              5000 mAh Battery   ₹7,999  \n",
       "9              5000 mAh Lithium Polymer Battery   ₹9,999  \n",
       "10                     5000 mAh Lithium Battery  ₹12,999  \n",
       "11             5000 mAh Lithium Polymer Battery  ₹14,999  \n",
       "12  A15 Bionic Chip, 6 Core Processor Processor  ₹73,990  \n",
       "13  A15 Bionic Chip, 6 Core Processor Processor  ₹73,990  \n",
       "14                     5000 mAh Lithium Battery  ₹12,999  \n",
       "15  A15 Bionic Chip, 6 Core Processor Processor  ₹73,990  \n",
       "16             6000 mAh Lithium Polymer Battery   ₹9,499  \n",
       "17         5000 mAh Lithium-ion Polymer Battery  ₹14,999  \n",
       "18                    A15 Bionic Chip Processor  ₹61,999  \n",
       "19             5000 mAh Lithium Polymer Battery  ₹14,999  \n",
       "20         5000 mAh Lithium-ion Polymer Battery  ₹16,999  \n",
       "21  A15 Bionic Chip, 6 Core Processor Processor  ₹73,990  \n",
       "22             6000 mAh Lithium Polymer Battery   ₹9,499  \n",
       "23              6000 mAh Li-ion Polymer Battery   ₹8,499  "
      ]
     },
     "execution_count": 29,
     "metadata": {},
     "output_type": "execute_result"
    }
   ],
   "source": [
    "FlipKart=pd.DataFrame([])\n",
    "FlipKart['Brand_Name']=Brand_Name\n",
    "FlipKart['Storage_RAM_ROM']=Storage_RAM_ROM\n",
    "FlipKart['Amount P_F_Camera']=P_F_Camera\n",
    "FlipKart['Display_size_Resolution']=Display_size_Resolution\n",
    "FlipKart['ProcessorAndCores']=ProcessorAndCores\n",
    "FlipKart['Battery']=Battery\n",
    "FlipKart['Price']=Price\n",
    "\n",
    "FlipKart"
   ]
  },
  {
   "cell_type": "markdown",
   "id": "9989e86c",
   "metadata": {},
   "source": [
    "#  Q5"
   ]
  },
  {
   "cell_type": "code",
   "execution_count": 30,
   "id": "bb3cc38f",
   "metadata": {},
   "outputs": [
    {
     "name": "stderr",
     "output_type": "stream",
     "text": [
      "/var/folders/tj/9f4bs_0n69b_w28_xyk24sfh0000gn/T/ipykernel_1735/1949518271.py:1: DeprecationWarning: executable_path has been deprecated, please pass in a Service object\n",
      "  driver= webdriver.Chrome('//Users/raj/Desktop/chromedriver')\n"
     ]
    }
   ],
   "source": [
    "driver= webdriver.Chrome('//Users/raj/Desktop/chromedriver')"
   ]
  },
  {
   "cell_type": "code",
   "execution_count": 36,
   "id": "7093f732",
   "metadata": {},
   "outputs": [
    {
     "name": "stdout",
     "output_type": "stream",
     "text": [
      "Enter City Name : banglore\n",
      "Current url : https://www.google.co.in/maps/place/Bengaluru,+Karnataka/@12.9544595,77.3012709,10z/data=!3m1!4b1!4m5!3m4!1s0x3bae1670c9b44e6d:0xf8dfc3e8517e4fe0!8m2!3d12.9715987!4d77.5945627\n",
      "Latitude of given Location: 12.9544595\n",
      "Longitude of given Location: 77.3012709\n"
     ]
    }
   ],
   "source": [
    "# opening google maps\n",
    "driver.get(\"https://www.google.co.in/maps\")\n",
    "time.sleep(3)\n",
    "\n",
    "city = input('Enter City Name : ')                                         # Enter city to be searched\n",
    "search = driver.find_element('id','searchboxinput')                       # locating search bar\n",
    "search.clear()                                                             # clearing search bar\n",
    "time.sleep(2)\n",
    "search.send_keys(city)                                                     # entering values in search bar\n",
    "button = driver.find_element('id',\"searchbox-searchbutton\")               # locating search button\n",
    "button.click()                                                             # clicking search button\n",
    "time.sleep(3)\n",
    "\n",
    "current_url=driver.current_url\n",
    "print('Current url :',current_url)\n",
    "\n",
    "try:\n",
    "    if \"@\" in current_url:\n",
    "        location=current_url.split('@')[1].split(',*/data')[0].split(',')\n",
    "        location\n",
    "        print('Latitude of given Location:',location[0])\n",
    "        print('Longitude of given Location:',location[1])\n",
    "except:\n",
    "    print('Location detail not found in url')"
   ]
  },
  {
   "cell_type": "markdown",
   "id": "fe0b4ce9",
   "metadata": {},
   "source": [
    "# Q7"
   ]
  },
  {
   "cell_type": "code",
   "execution_count": 37,
   "id": "76c5fb47",
   "metadata": {},
   "outputs": [
    {
     "name": "stderr",
     "output_type": "stream",
     "text": [
      "/var/folders/tj/9f4bs_0n69b_w28_xyk24sfh0000gn/T/ipykernel_1735/1949518271.py:1: DeprecationWarning: executable_path has been deprecated, please pass in a Service object\n",
      "  driver= webdriver.Chrome('//Users/raj/Desktop/chromedriver')\n"
     ]
    }
   ],
   "source": [
    "driver= webdriver.Chrome('//Users/raj/Desktop/chromedriver')"
   ]
  },
  {
   "cell_type": "code",
   "execution_count": 38,
   "id": "ccdbae34",
   "metadata": {},
   "outputs": [],
   "source": [
    "url=\"https://www.digit.in/top-products/best-gaming-laptops-40.html\""
   ]
  },
  {
   "cell_type": "code",
   "execution_count": 39,
   "id": "e4d5b3a9",
   "metadata": {},
   "outputs": [],
   "source": [
    "driver.get(url)"
   ]
  },
  {
   "cell_type": "code",
   "execution_count": 40,
   "id": "0aec5bee",
   "metadata": {},
   "outputs": [],
   "source": [
    "Brands=[]\n",
    "Products_Description=[]\n",
    "Specification=[]\n",
    "Price=[]"
   ]
  },
  {
   "cell_type": "code",
   "execution_count": 41,
   "id": "4dc62946",
   "metadata": {},
   "outputs": [
    {
     "data": {
      "text/plain": [
       "10"
      ]
     },
     "execution_count": 41,
     "metadata": {},
     "output_type": "execute_result"
    }
   ],
   "source": [
    "br=driver.find_elements(\"xpath\",\"//div[@class='TopNumbeHeading']\")\n",
    "len(br)"
   ]
  },
  {
   "cell_type": "code",
   "execution_count": 42,
   "id": "7b00a601",
   "metadata": {},
   "outputs": [
    {
     "data": {
      "text/plain": [
       "['1.MSI Titan GT77-12UHS',\n",
       " '2.Alienware X17 R2',\n",
       " '3.Acer Predator Triton 500 SE PT516-52s',\n",
       " '4.Omen By HP (16-B1371TX)',\n",
       " '5.Acer Predator Helios 300 AN515-45',\n",
       " '6.MSI Delta 15 (A5EFK-083IN)',\n",
       " '7.Omen By HP (16-C0141AX)',\n",
       " '8.Lenovo Legion 5i Pro (82RF00MGIN)',\n",
       " '9.Alienware M15 R5 Ryzen Edition Icc-C780001win',\n",
       " '10.Lenovo Slim 7 Gen 6 (82K8002JIN)']"
      ]
     },
     "execution_count": 42,
     "metadata": {},
     "output_type": "execute_result"
    }
   ],
   "source": [
    "for i in br:\n",
    "   \n",
    "    Brands.append(str(i.text).replace(\"\\n\",\"\"))\n",
    "Brands"
   ]
  },
  {
   "cell_type": "code",
   "execution_count": 43,
   "id": "73451609",
   "metadata": {},
   "outputs": [
    {
     "data": {
      "text/plain": [
       "10"
      ]
     },
     "execution_count": 43,
     "metadata": {},
     "output_type": "execute_result"
    }
   ],
   "source": [
    "sp=driver.find_elements(\"xpath\",\"//div[@class='Specs-Wrap']\")\n",
    "len(sp)"
   ]
  },
  {
   "cell_type": "code",
   "execution_count": 44,
   "id": "54afca8e",
   "metadata": {},
   "outputs": [
    {
     "data": {
      "text/plain": [
       "['Windows 11 Home OS17.3\" (3840 x 2160) Display12th Gen Intel Core i9-12900HX | NA Processor2 TB SSD/64 GB DDR5 Memory',\n",
       " 'Windows 11 Home OS17.3\" (1920 x 1080) Display12th Gen Intel Core i9-12900H | 5 GHz Processor1 TB SSD/32 GB DDR5 Memory',\n",
       " 'Windows 11 OS16\" (2560 x 1600) Display12th Gen Intel Core i7-12700H | 3.5 GHz Processor2 TB SSD/32 GB DDR5 Memory',\n",
       " 'Windows 11 Home OS16.1\" (2560 x 1440) Display12th Gen Intel Core i7-12700H | 4.7 GHz Processor1 TB SSD/8 GB DDR5 Memory',\n",
       " 'Windows 11 Home OS15.6\" (2560 x 1440) DisplayAMD Ryzen 9-5900HX | NA Processor512 GB SSD/16 GB DDR4 Memory',\n",
       " 'Windows 11 Home OS15.6\" (1920 x 1080) DisplayAMD 5th Gen Ryzen 9-5900HX | 3.3GHz Processor1 TB SSD/16 GBGB DDR4 Memory',\n",
       " 'Windows 11 Home OS16.1\" (2560 x 1440) DisplayAMD Ryzen™ 9 5900HX | 3.3 GHz Processor1 TB NVMe/16 GB DDR4 Memory',\n",
       " 'Windows 11 Home OS16\" (2560 x 1600) Display12th Gen Intel Core i7-12700H | 2.3 GHz Processor1 TB SSD/16 GB DDR5 Memory',\n",
       " 'Windows 11 Home OS15.6\" (1920 x 1080) DisplayAMD Ryzen R7-5800H | 4.40 GHz Processor512 GB SSD/16 GB DDR4 Memory',\n",
       " 'Windows 11 Home OS15.6 MP | NA DisplayLenovo Ryzen 7-5800H | 3.2 GHz Processor1 TB SSD/16 GB DDR4 Memory']"
      ]
     },
     "execution_count": 44,
     "metadata": {},
     "output_type": "execute_result"
    }
   ],
   "source": [
    "for i in sp:\n",
    "   \n",
    "    Specification.append(str(i.text).replace(\"\\n\",\"\"))\n",
    "Specification"
   ]
  },
  {
   "cell_type": "code",
   "execution_count": 45,
   "id": "61136305",
   "metadata": {},
   "outputs": [
    {
     "data": {
      "text/plain": [
       "10"
      ]
     },
     "execution_count": 45,
     "metadata": {},
     "output_type": "execute_result"
    }
   ],
   "source": [
    "des=driver.find_elements(\"xpath\",\"//div[@class='Section-center']\")\n",
    "len(des)"
   ]
  },
  {
   "cell_type": "code",
   "execution_count": 46,
   "id": "26bd7818",
   "metadata": {},
   "outputs": [
    {
     "data": {
      "text/plain": [
       "['The very best MSI gaming laptop featuring an Intel processor is the MSI TITAN GT77 - 12UHS. This is the top of the line model from MSI’s recent refresh of their entire gaming lineup and is powered by the Intel Core i9-12900HX which is a 16 Core (8P+8E) processor that has 24 threads and a maximum Turbo power of 157 Watts. The graphics card in this laptop is the NVIDIA RTX 3080 Ti and it too sports a high TGP of 175 Watts. This is one of the most powerful CPU+GPU combinations with plenty of thermal headroom to allow it to operate at higher clock speeds for longer time periods. As for the memory, the MSI GT77-12UHS can have up to 128 GB of DDR5 memory but ships with 64 GB DDR5 clocked at 4800 MT/s. Being a 12th Gen machine also means that the motherboard has PCIe Gen 5.0 lanes for storage devices such as M.2 SSDs. The GT77-12UHS has four M.2 slots of which one slot is PCIe Gen 5 whereas the remaining three are PCIe Gen 4 slots. Then there’s also the display, the GT77-12UHS features a massive 17.3-inch IPS-level 4K panel with a 120 Hz refresh rate. So you can actually enjoy all the high frame-rate gameplay that the powerful hardware enables. And the cherry on the cake? A built-in mechanical keyboard with Cherry MX switches. All this hardware comes at a ridiculous price of INR 5,26,990. As of now, this is at the top among the best performing gaming laptops in the world. ...Read MoreMORE SPECIFICATIONSProcessor : 12th Gen Intel Core i9-12900HX 16 core processorDisplay : 17.3″ (3840 x 2160) screen, 120 Hz refresh rateOS : Windows 11 HomeMemory : 64 GB DDR5 RAM & 2 TB SSDGraphics Processor : 16 GB DDR6 NVIDIA GeForce RTX 3080 Ti Graphics cardBody : 397 x 330 x 23 mm dimension & 3.3 kg weight',\n",
       " 'Alienware, the premium gaming brand from Dell has its own reputation for building some of the meanest gaming machines for more than two decades. The best Alienware gaming laptop featuring an Intel processor is the Alienware x17 R2. This thing packs an Intel Core i9-12900HK which is a 14-Core (6P+8E) processor which has 20 Threads. The lower P-Core count helps it hit slightly higher clock speeds but the Max Turbo power is capped at 115W which is less than what the MSI GT77 sports. As for the graphics card, the Alienware x17 R2 also sports an NVIDIA RTX 3080 Ti with the peak TGP set to 175 Watts. The CPU+GPU combination of the Alienware x17 R2 comes close to the MSI GT77. As for the memory, the Alienware x17 R2 ships with 32 GB of DDR5 RAM clocked at 4800 MT/s. The display on the x17 R2 is a 17.3-inch FHD 360 Hz panel compared to the 120 Hz 4K panel on the MSI GT77. You’ll end up seeing higher frame rates on the Alienware x17 R2 without any tearing whereas you’ll see crisper visuals at high frame rates on the MSI GT77. Both make for great experiences. This configuration of the Dell Alienware x17 R2 goes for INR 3,89,990 making it a good gaming laptop to buy in 2022. ...Read MoreMORE SPECIFICATIONSProcessor : 12th Gen Intel Core i9-12900H 14 core processor with 5 GHz clock speedDisplay : 17.3″ (1920 x 1080) screen, 360 Hz refresh rateOS : Windows 11 HomeMemory : 32 GB DDR5 RAM & 1 TB SSDGraphics Processor : 16 GB DDR6 NVIDIA GEFORCE RTX 3080 Ti Graphics cardBody : 299 x 359 x 21 mm dimension & 2.96 kg weightPrice : ₹ 389,990',\n",
       " 'The Predator lineup from Acer has shown great promise for gamers ever since they showcased the Predator 21X a couple of years ago. Keeping its legacy intact and also being the best Acer gaming laptop featuring an Intel processor is the Acer Predator Triton 500 SE. This machine is powered by an Intel Core i7-12700H which is a 14-Core (6P+8E) processor with 20 Threads. And the graphics card in this machine is the NVIDIA RTX 3070 Ti. The TGP isn’t specified but the RTX 3070 Ti generally ships with a TGP of between 105 to 150 Watts. For the memory, it has 32 GB of LPDDR5 memory clocked at 4800 MT/s and the display is a 16-inch 2560x1600 IPS panel sporting a 240 Hz refresh rate. Acer makes some intelligent decisions with the hardware by picking a Core i7 processor and pairing it with a high-end RTX 3070 Ti. The power backup in this machine is a 4-Cell 99 Wh Li-ion battery which is the highest that you can get in a laptop legally for it to be carried on aeroplanes. And if we are to talk about the networking then the Acer Predator Triton 500 SE comes with Killer Wi-Fi 6E 1675s and Gigabit Ethernet. This laptop gives you great gaming performance that comes close to machines that cost twice as much. Speaking of price, the Acer Predator Triton 500 SE PT516-52s is priced at INR 2,29,999 in India. ...Read MoreMORE SPECIFICATIONSProcessor : 12th Gen Intel Core i7-12700H 14 core processor with 3.5 GHz clock speedDisplay : 16″ (2560 x 1600) screenOS : Windows 11Memory : 32 GB DDR5 RAM & 2 TB SSDGraphics Processor : 8 GB DDR6 NVIDIA GeForce RTX 3070 Ti Graphics cardBody : 262 x 359 x 20 mm dimension & 2.4 kg weightPrice : ₹ 229,990AVAILABLE ₹ 229,990BUY NOW',\n",
       " 'Omen by HP is a premium gaming lineup which is right up there with their Victus gaming laptops. The best HP gaming laptop with an Intel processor is the Omen by HP (16-B1371TX). Like the Acer Predator, this too is powered by the Intel Core i7-12700H which is a 14-Core (6P+8E) processor with 20 Threads. And the graphics card in this machine is the NVIDIA RTX 3070 Ti. Even the memory is a similar configuration with 32 GB of DDR5 RAM rated for 4800 MT/s. One of the great things about the Omen laptops is that the audio setup is powered by Bang&Olufsen for some really great-sounding audio. For the display, the Omen by HP (16-B1371TX) sports a 16.1-inch 165 Hz 2560x1440 IPS panel that is the best of both worlds, resolution and refresh rate. Moreover, it is also NVIDIA G-Sync certified. The keyboard on the HP Omen (16-B1371TX) features a 4-zone RGB backlighting that adds a bit of pizazz to the overall aesthetic. In a way, the HP Omen (16-B1371TX) checks all the boxes and it does so with a price tag of INR 1,82,999 in India. ...Read MoreMORE SPECIFICATIONSProcessor : 12th Gen Intel Core i7-12700H 14 core processor with 4.7 GHz clock speedDisplay : 16.1″ (2560 x 1440) screenOS : Windows 11 HomeMemory : 8 GB DDR5 RAM & 1 TB SSDGraphics Processor : 8 GB GDDR6 NVIDIA GeForce RTX 3070 Graphics cardBody : 369 x 248 x 23 mm dimension & 2.32 kg weightPrice : ₹ 176,490AVAILABLE ₹ 176,490BUY NOW',\n",
       " 'Acer Predator Helios 300 AN515-45 is the best Acer gaming laptop featuring an AMD processor. It is powered by the AMD Ryzen 9 5900HX which is an 8 Core processor that gives you 16 Threads. AMD’s Ryzen 5000 series processors have broken performance records and set new benchmarks and this is the best mobile processor of the entire series. Acer has paired this with the NVIDIA RTX 3070. Together, the two make for a great combination for gaming. On the memory front, there’s 16 GB of DDR4 RAM clocked at 3200 MT/s. The display on the Acer Predator Helios 300 is a 15.6-inch 2560x1440 IPS panel that is tuned for a refresh rate of 165 Hz. Acer also packs Killer E2600 Ethernet in the Predator Helios 300 for folks who’d like to tweak their network prioritisation settings. The TGP for the RTX 3070 has not been mentioned here but a high TGP RTX 3070 can even best a low TGP RTX 3070 Ti, so there might be a few surprises there. For all these features, the Acer Predator Helios 300 carries a price tag of INR 1,39,990 in India. ...Read MoreMORE SPECIFICATIONSProcessor : AMD Ryzen 9-5900HX 8 core processorDisplay : 15.6″ (2560 x 1440) screen, 165 Hz refresh rateOS : Windows 11 HomeMemory : 16 GB DDR4 RAM & 512 GB SSDGraphics Processor : 8 GB DDR6 NVIDIA GeForce RTX 3070 Graphics cardBody : 363 x 255 x 23.9 mm dimension & 2.4 kg weightPrice : ₹ 172,999',\n",
       " \"The best MSI gaming laptop with an AMD processor is the MSI Delta 15 A5EFK-083IN. It features the top of the line AMD Ryzen 9 5900 HX which is a great 8-Core / 16-Thread processor for gaming and for the graphics card it has an AMD Radeon RX 6700M. The Radeon RX 6000 series graphics cards are well known for their power efficiency thanks to the efficient 7nm process on which the Radeon RX 6000 GPUs are built on. The RX 6700M, in particular, is a great high-end graphics card and can best even an RTX 3070 considering the TGP ranges of the GPUs. For the memory, the MSI Delta 15 comes with 16 GB of dual-channel DDR4 RAM clocked at 3200 MT/s. Coming to the display, the MSI Delta 15 sports a 15.6-inch FHD IPS-level 240 Hz panel that's geared to take advantage of AMD FreeSync. Even the backup is great with an 82 Wh 4-Cell Li-Ion battery. The keyboard on the Delta 15 is backlit and there's always the MSI Dragon Centre management software to help optimise the way you use the laptop. The MSI Delta 15 A5EFK-083IN retails for INR 1,14,990 in India. ...Read MoreMORE SPECIFICATIONSProcessor : AMD 5th Gen Ryzen 9-5900HX 8 core processor with 3.3GHz clock speedDisplay : 15.6″ (1920 x 1080) screen, 240Hz refresh rateOS : Windows 11 HomeMemory : 16 GB DDR4 RAM & 1 TB SSDGraphics Processor : 10 GB DDR6 AMD Radeon RX 6700M Graphics cardBody : 357 x 247 x 19 mm dimension & 1.9 kg weightPrice : ₹ 188,990\",\n",
       " \"Another worthy gaming laptop from the Omen lineup from HP is the 16-c0141AX. In fact, it's also the best HP gaming laptop with an AMD Processor. This unit also features the best AMD mobile processor which is the AMD Ryzen 9 5900 HX, an 8-Core / 16-Thread flagship CPU that can make mincemeat of all current AAA video games. And for the graphics, HP has included the AMD Radeon RX 6600M which is very power efficient like most GPUs in the RX 6000 series and often performs better than the NVIDIA RTX 3060. Aside from these there’s 16 GB of DDR4 RAM, and for the display, the Omen by HP (16-c0141AX) has a 16.1-inch 2560x1440 IPS panel and it even has a high refresh rate of 165 Hz. HP introduced the OMEN Tempest Cooling technology for their laptops to improve their cooling. Like other Omen laptops, this model also has an audio solution powered by Bang&Olufsen which is a well-known premium audio brand. The Omen by HP (16-c0141AX) retails for INR 1,34,999 in India. ...Read MoreMORE SPECIFICATIONSProcessor : AMD Ryzen™ 9 5900HX 8 core processor with 3.3 GHz clock speedDisplay : 16.1″ (2560 x 1440) screenOS : Windows 11 HomeMemory : 16 GB DDR4 RAM & 1 TB NVMeGraphics Processor : 8 GB GDDR6 AMD Radeon™ RX 6600M Graphics cardBody : 36.92 x 24.8 x 2.3 mm dimension & 2.3 kg weightPrice : ₹ 124,990AVAILABLE ₹ 124,990BUY NOWSee more offer detailssee more prices\",\n",
       " 'Lenovo has gone a little mainstream with their gaming laptops and the best Lenovo gaming laptop featuring an Intel processor happens to be the Lenovo Legion 5i Pro (82RF00MGIN). It features the powerful Intel Core i7-12700H which is a 14-Core (6P+8E) processor with 20 Threads. There’s 16 GB of DDR5 RAM rated for 4800 MT/s and the graphics card is the NVIDIA RTX 3060. There’s no mention of the TGP of the card on the official spec sheets. Lenovo offers a 16-inch 2560x1600 IPS panel on the Lenovo Legion 5i Pro and it also has a refresh rate of 165 Hz. While most of the specs might seem a little tame compared to the top laptop on this page, the battery is where Lenovo doesn’t hold back any punches. This machine features an 80 Wh 4-Cell battery which is pretty high among gaming laptops. Then there’s the audio setup which is enhanced by Nahimic’s AI-based audio solution for different sound profiles and some of the features can improve your gaming experience. The Lenovo Legion 5i Pro (82RF00MGIN) is priced at INR 1,64,990 in India. ...Read MoreMORE SPECIFICATIONSProcessor : 12th Gen Intel Core i7-12700H 14 core processor with 2.3 GHz clock speedDisplay : 16″ (2560 x 1600) screen, 165 Hz refresh rateOS : Windows 11 HomeMemory : 16 GB DDR5 RAM & 1 TB SSDGraphics Processor : 6 GB DDR6 NVIDIA GeForce RTX 3060 Graphics cardBody : 360 x 264 x 20 mm dimension & 2.49 kg weightPrice : ₹ 169,900AVAILABLE ₹ 169,900BUY NOW',\n",
       " 'Dell not only has gaming laptops under the Dell Gaming brand but also under the Alienware brand. Together, both of them make up for a diverse set of configurations featuring the best hardware that money can buy. If you’re looking for the best Alienware gaming laptop with an AMD processor then the aptly named Alienware m15 R5 Ryzen Edition should be first on your list. This machine features the AMD Ryzen 7 5800H which is an 8-Core / 16-Thread CPU and for the graphics bit, it has an NVIDIA RTX 3060. Being an Alienware machine, you can safely assume that the TGP on the RTX 3060 will be scaled to its maximum allowed limits. As for the networking bit, the Alienware m15 R5 Ryzen Edition comes with Killer Wireless Wi-Fi 6E (1650) which is a top-tier Wi-Fi card that allows you to prioritise networking traffic so that your online gaming experience remains unhampered. As for the display, the Alienware m15 R5 Ryzen Edition comes with a 15.6-inch FHD panel tweaked for a refresh rate of 165 Hz. The Alienware m15 R5 Ryzen Edition retails for INR 1,44,989 in India. ...Read MoreMORE SPECIFICATIONSProcessor : AMD Ryzen R7-5800H 8 core processor with 4.40 GHz clock speedDisplay : 15.6″ (1920 x 1080) screen, 165Hz refresh rateOS : Windows 11 HomeMemory : 16 GB DDR4 RAM & 512 GB SSDGraphics Processor : 6 GB DDR6 NVIDIA GeForce RTX 3060 Graphics cardBody : 356.2 x 272.5 x 22.85 mm dimension & 2.69 kg weightPrice : ₹ 174,000AVAILABLE ₹ 174,000BUY NOW',\n",
       " 'Lenovo has been pushing for thinner gaming laptops and the fruits of their labour can be clearly seen in the Lenovo Slim 7 Gen 6 gaming laptop. It is the best Lenovo gaming laptop featuring AMD hardware. For the processor it has an AMD Ryzen 7 5800H which is an 8-Core / 16-Thread CPU similar to the Ryzen 9 5900HX but with a lower TDP cap and slightly lower clock speeds. Nevertheless, for gaming, it’s a great processor. The Ryzen 7 5800H is clubbed with the NVIDIA RTX 3060 and there’s even 16 GB of DDR4 RAM clocked at 3200 MT/s. Like the other Lenovo machine in this list, even the Lenovo Slim 7 Gen 6 comes with a 15.6-inch 2560x1440 IPS panel sporting a 165 Hz refresh rate. And it is also certified to work with NVIDIA G-Sync technology. The thin chassis of the Lenovo Slim 7 Gen 6 is made with a combination of aluminium and magnesium for a solid finish and the chassis also doubles up as a passive heat sink. For the power backup, the Lenovo Slim 7 Gen 6 features a 71 Wh 4-Cell Lithium Ion battery. Gamers can find the Lenovo Slim 7 Gen 6 retailing for INR 1,44,990 in India. ...Read MoreMORE SPECIFICATIONSProcessor : Lenovo Ryzen 7-5800H processor with 3.2 GHz clock speedDisplay : 15.6″ screen, 165 Hz refresh rateOS : Windows 11 HomeMemory : 16 GB DDR4 RAM & 1 TB SSDGraphics Processor : 6 GB DDR6 NVIDIA GeForce 3060 Max-Q Graphics cardBody : 356 x 252 x 16 mm dimension & 1.9 kg weightPrice : ₹ 131,990AVAILABLE ₹ 131,990BUY NOWsee more prices']"
      ]
     },
     "execution_count": 46,
     "metadata": {},
     "output_type": "execute_result"
    }
   ],
   "source": [
    "for i in des:\n",
    "   \n",
    "    Products_Description.append(str(i.text).replace(\"\\n\",\"\"))\n",
    "Products_Description"
   ]
  },
  {
   "cell_type": "code",
   "execution_count": 47,
   "id": "f77fea84",
   "metadata": {},
   "outputs": [
    {
     "data": {
      "text/plain": [
       "10"
      ]
     },
     "execution_count": 47,
     "metadata": {},
     "output_type": "execute_result"
    }
   ],
   "source": [
    "pri=driver.find_elements(\"xpath\",\"//td[@class='smprice']\")\n",
    "len(pri)"
   ]
  },
  {
   "cell_type": "code",
   "execution_count": 48,
   "id": "dd20c854",
   "metadata": {},
   "outputs": [
    {
     "data": {
      "text/plain": [
       "['N/A',\n",
       " '₹ 389,990',\n",
       " '₹ 229,990',\n",
       " '₹ 176,490',\n",
       " '₹ 172,999',\n",
       " '₹ 188,990',\n",
       " '₹ 124,990',\n",
       " '₹ 169,900',\n",
       " '₹ 174,000',\n",
       " '₹ 131,990']"
      ]
     },
     "execution_count": 48,
     "metadata": {},
     "output_type": "execute_result"
    }
   ],
   "source": [
    "for i in pri:\n",
    "   \n",
    "    Price.append(str(i.text).replace(\"\\n\",\"\"))\n",
    "Price"
   ]
  },
  {
   "cell_type": "code",
   "execution_count": 49,
   "id": "4b18cbca",
   "metadata": {},
   "outputs": [
    {
     "data": {
      "text/html": [
       "<div>\n",
       "<style scoped>\n",
       "    .dataframe tbody tr th:only-of-type {\n",
       "        vertical-align: middle;\n",
       "    }\n",
       "\n",
       "    .dataframe tbody tr th {\n",
       "        vertical-align: top;\n",
       "    }\n",
       "\n",
       "    .dataframe thead th {\n",
       "        text-align: right;\n",
       "    }\n",
       "</style>\n",
       "<table border=\"1\" class=\"dataframe\">\n",
       "  <thead>\n",
       "    <tr style=\"text-align: right;\">\n",
       "      <th></th>\n",
       "      <th>Brands</th>\n",
       "      <th>Price</th>\n",
       "      <th>Specification</th>\n",
       "      <th>Description</th>\n",
       "    </tr>\n",
       "  </thead>\n",
       "  <tbody>\n",
       "    <tr>\n",
       "      <th>0</th>\n",
       "      <td>1.MSI Titan GT77-12UHS</td>\n",
       "      <td>N/A</td>\n",
       "      <td>Windows 11 Home OS17.3\" (3840 x 2160) Display1...</td>\n",
       "      <td>The very best MSI gaming laptop featuring an I...</td>\n",
       "    </tr>\n",
       "    <tr>\n",
       "      <th>1</th>\n",
       "      <td>2.Alienware X17 R2</td>\n",
       "      <td>₹ 389,990</td>\n",
       "      <td>Windows 11 Home OS17.3\" (1920 x 1080) Display1...</td>\n",
       "      <td>Alienware, the premium gaming brand from Dell ...</td>\n",
       "    </tr>\n",
       "    <tr>\n",
       "      <th>2</th>\n",
       "      <td>3.Acer Predator Triton 500 SE PT516-52s</td>\n",
       "      <td>₹ 229,990</td>\n",
       "      <td>Windows 11 OS16\" (2560 x 1600) Display12th Gen...</td>\n",
       "      <td>The Predator lineup from Acer has shown great ...</td>\n",
       "    </tr>\n",
       "    <tr>\n",
       "      <th>3</th>\n",
       "      <td>4.Omen By HP (16-B1371TX)</td>\n",
       "      <td>₹ 176,490</td>\n",
       "      <td>Windows 11 Home OS16.1\" (2560 x 1440) Display1...</td>\n",
       "      <td>Omen by HP is a premium gaming lineup which is...</td>\n",
       "    </tr>\n",
       "    <tr>\n",
       "      <th>4</th>\n",
       "      <td>5.Acer Predator Helios 300 AN515-45</td>\n",
       "      <td>₹ 172,999</td>\n",
       "      <td>Windows 11 Home OS15.6\" (2560 x 1440) DisplayA...</td>\n",
       "      <td>Acer Predator Helios 300 AN515-45 is the best ...</td>\n",
       "    </tr>\n",
       "    <tr>\n",
       "      <th>5</th>\n",
       "      <td>6.MSI Delta 15 (A5EFK-083IN)</td>\n",
       "      <td>₹ 188,990</td>\n",
       "      <td>Windows 11 Home OS15.6\" (1920 x 1080) DisplayA...</td>\n",
       "      <td>The best MSI gaming laptop with an AMD process...</td>\n",
       "    </tr>\n",
       "    <tr>\n",
       "      <th>6</th>\n",
       "      <td>7.Omen By HP (16-C0141AX)</td>\n",
       "      <td>₹ 124,990</td>\n",
       "      <td>Windows 11 Home OS16.1\" (2560 x 1440) DisplayA...</td>\n",
       "      <td>Another worthy gaming laptop from the Omen lin...</td>\n",
       "    </tr>\n",
       "    <tr>\n",
       "      <th>7</th>\n",
       "      <td>8.Lenovo Legion 5i Pro (82RF00MGIN)</td>\n",
       "      <td>₹ 169,900</td>\n",
       "      <td>Windows 11 Home OS16\" (2560 x 1600) Display12t...</td>\n",
       "      <td>Lenovo has gone a little mainstream with their...</td>\n",
       "    </tr>\n",
       "    <tr>\n",
       "      <th>8</th>\n",
       "      <td>9.Alienware M15 R5 Ryzen Edition Icc-C780001win</td>\n",
       "      <td>₹ 174,000</td>\n",
       "      <td>Windows 11 Home OS15.6\" (1920 x 1080) DisplayA...</td>\n",
       "      <td>Dell not only has gaming laptops under the Del...</td>\n",
       "    </tr>\n",
       "    <tr>\n",
       "      <th>9</th>\n",
       "      <td>10.Lenovo Slim 7 Gen 6 (82K8002JIN)</td>\n",
       "      <td>₹ 131,990</td>\n",
       "      <td>Windows 11 Home OS15.6 MP | NA DisplayLenovo R...</td>\n",
       "      <td>Lenovo has been pushing for thinner gaming lap...</td>\n",
       "    </tr>\n",
       "  </tbody>\n",
       "</table>\n",
       "</div>"
      ],
      "text/plain": [
       "                                            Brands      Price  \\\n",
       "0                           1.MSI Titan GT77-12UHS        N/A   \n",
       "1                               2.Alienware X17 R2  ₹ 389,990   \n",
       "2          3.Acer Predator Triton 500 SE PT516-52s  ₹ 229,990   \n",
       "3                        4.Omen By HP (16-B1371TX)  ₹ 176,490   \n",
       "4              5.Acer Predator Helios 300 AN515-45  ₹ 172,999   \n",
       "5                     6.MSI Delta 15 (A5EFK-083IN)  ₹ 188,990   \n",
       "6                        7.Omen By HP (16-C0141AX)  ₹ 124,990   \n",
       "7              8.Lenovo Legion 5i Pro (82RF00MGIN)  ₹ 169,900   \n",
       "8  9.Alienware M15 R5 Ryzen Edition Icc-C780001win  ₹ 174,000   \n",
       "9              10.Lenovo Slim 7 Gen 6 (82K8002JIN)  ₹ 131,990   \n",
       "\n",
       "                                       Specification  \\\n",
       "0  Windows 11 Home OS17.3\" (3840 x 2160) Display1...   \n",
       "1  Windows 11 Home OS17.3\" (1920 x 1080) Display1...   \n",
       "2  Windows 11 OS16\" (2560 x 1600) Display12th Gen...   \n",
       "3  Windows 11 Home OS16.1\" (2560 x 1440) Display1...   \n",
       "4  Windows 11 Home OS15.6\" (2560 x 1440) DisplayA...   \n",
       "5  Windows 11 Home OS15.6\" (1920 x 1080) DisplayA...   \n",
       "6  Windows 11 Home OS16.1\" (2560 x 1440) DisplayA...   \n",
       "7  Windows 11 Home OS16\" (2560 x 1600) Display12t...   \n",
       "8  Windows 11 Home OS15.6\" (1920 x 1080) DisplayA...   \n",
       "9  Windows 11 Home OS15.6 MP | NA DisplayLenovo R...   \n",
       "\n",
       "                                         Description  \n",
       "0  The very best MSI gaming laptop featuring an I...  \n",
       "1  Alienware, the premium gaming brand from Dell ...  \n",
       "2  The Predator lineup from Acer has shown great ...  \n",
       "3  Omen by HP is a premium gaming lineup which is...  \n",
       "4  Acer Predator Helios 300 AN515-45 is the best ...  \n",
       "5  The best MSI gaming laptop with an AMD process...  \n",
       "6  Another worthy gaming laptop from the Omen lin...  \n",
       "7  Lenovo has gone a little mainstream with their...  \n",
       "8  Dell not only has gaming laptops under the Del...  \n",
       "9  Lenovo has been pushing for thinner gaming lap...  "
      ]
     },
     "execution_count": 49,
     "metadata": {},
     "output_type": "execute_result"
    }
   ],
   "source": [
    "digit_lap=pd.DataFrame([])\n",
    "digit_lap['Brands']=Brands[0:10]\n",
    "digit_lap['Price']=Price[0:10]\n",
    "digit_lap['Specification']=Specification[0:10]\n",
    "digit_lap['Description']=Products_Description[0:10]\n",
    "digit_lap"
   ]
  }
 ],
 "metadata": {
  "kernelspec": {
   "display_name": "Python 3 (ipykernel)",
   "language": "python",
   "name": "python3"
  },
  "language_info": {
   "codemirror_mode": {
    "name": "ipython",
    "version": 3
   },
   "file_extension": ".py",
   "mimetype": "text/x-python",
   "name": "python",
   "nbconvert_exporter": "python",
   "pygments_lexer": "ipython3",
   "version": "3.9.13"
  }
 },
 "nbformat": 4,
 "nbformat_minor": 5
}
