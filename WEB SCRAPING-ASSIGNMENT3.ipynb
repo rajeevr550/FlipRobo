{
 "cells": [
  {
   "cell_type": "code",
   "execution_count": null,
   "id": "4a5b7359",
   "metadata": {},
   "outputs": [],
   "source": [
    "import pandas as pd\n",
    "import selenium\n",
    "from selenium import webdriver\n",
    "from selenium.common.exceptions import StaleElementReferenceException, NoSuchElementException\n",
    "import time\n",
    "import requests"
   ]
  },
  {
   "cell_type": "code",
   "execution_count": null,
   "id": "cb168d8d",
   "metadata": {},
   "outputs": [],
   "source": [
    "driver= webdriver.Chrome('//Users/raj/Desktop/chromedriver')"
   ]
  },
  {
   "cell_type": "code",
   "execution_count": null,
   "id": "8c4eed29",
   "metadata": {},
   "outputs": [],
   "source": [
    "driver.get('https://www.amazon.in/')"
   ]
  },
  {
   "cell_type": "code",
   "execution_count": null,
   "id": "e88b9d59",
   "metadata": {},
   "outputs": [],
   "source": [
    "val = input('Enter product here:-')"
   ]
  },
  {
   "cell_type": "code",
   "execution_count": null,
   "id": "f1dcb786",
   "metadata": {},
   "outputs": [],
   "source": [
    "search_bar = driver.find_element(\"xpath\",'//*[@id=\"twotabsearchtextbox\"]')    # Finding the search bar using it's xpath\n",
    "search_bar.send_keys(val)       # Inputing keyword to search \n",
    "search_button = driver.find_element(\"xpath\",'//*[@id=\"nav-search-submit-button\"]')    # Finding the xpath of search button\n",
    "search_button.click()        # Clicking the search button"
   ]
  },
  {
   "cell_type": "code",
   "execution_count": null,
   "id": "8d662a07",
   "metadata": {},
   "outputs": [],
   "source": [
    "productName=[]"
   ]
  },
  {
   "cell_type": "code",
   "execution_count": null,
   "id": "33006a5f",
   "metadata": {},
   "outputs": [],
   "source": [
    "#scraping the Product_Name \n",
    "PName=driver.find_elements(\"xpath\",\"//span[@class='a-size-medium a-color-base a-text-normal']\")\n",
    "for i in PName:\n",
    "    if i.text is None :\n",
    "        productName.append(\"--\") \n",
    "    else:\n",
    "        productName.append(i.text)\n",
    "print(len(productName),productName)"
   ]
  },
  {
   "cell_type": "markdown",
   "id": "b14847f6",
   "metadata": {},
   "source": [
    "# Q2"
   ]
  },
  {
   "cell_type": "code",
   "execution_count": null,
   "id": "4fd353af",
   "metadata": {},
   "outputs": [],
   "source": [
    "start_page = 0\n",
    "end_page = 3\n",
    "urls = []\n",
    "for page in range(start_page,end_page+1):\n",
    "    try:\n",
    "        page_urls = driver.find_elements(\"xpath\",'//a[@class=\"a-link-normal s-no-outline\"]')\n",
    "        \n",
    "        # appending all the urls on current page to urls list\n",
    "        for url in page_urls:\n",
    "            url = url.get_attribute('href')     # Scraping the url from webelement\n",
    "            if url[0:4]=='http':                # Checking if the scraped data is a valid url or not\n",
    "                urls.append(url)                # Appending the url to urls list\n",
    "        print(\"Product urls of page {} has been scraped.\".format(page+1))\n",
    "        \n",
    "        # Moving to next page\n",
    "       # nxt_button = driver.find_element(\"xpath\",'//li[@class=\"a-last\"]/a')      # Locating the next_button which is active\n",
    "       # if nxt_button.text == 'Next→':                                            # Checking if the button located is next button\n",
    "           # nxt_button.click()                                                    # Clicking the next button\n",
    "           # time.sleep(5)                                                         # time delay of 5 seconds\n",
    "        # If the current active button is not next button, the we will check if the next button is inactive or not    \n",
    "        #elif driver.find_element(\"xpath\",'//li[@class=\"a-disabled a-last\"]/a').text == 'Next→':    \n",
    "          #  print(\"No new pages exist. Breaking the loop\")  # Printing message and breakinf loop if we have reached the last page\n",
    "          #  break\n",
    "            \n",
    "    except StaleElementReferenceException as e:             # Handling StaleElement Exception   \n",
    "        print(\"Stale Exception\")\n",
    "        next_page = nxt_button.get_attribute('href')        # Extracting the url of next page\n",
    "        driver.get(next_page)                               # ReLoading the next page"
   ]
  },
  {
   "cell_type": "code",
   "execution_count": null,
   "id": "cb47e46d",
   "metadata": {},
   "outputs": [],
   "source": [
    "prod_dict = {}\n",
    "prod_dict['Brand']=[]\n",
    "prod_dict['Name']=[]\n",
    "prod_dict['Rating']=[]\n",
    "prod_dict['No. of ratings']=[]\n",
    "prod_dict['Price']=[]\n",
    "prod_dict['Return/Exchange']=[]\n",
    "prod_dict['Expected Delivery']=[] \n",
    "prod_dict['Availability']=[]\n",
    "prod_dict['Other Details']=[]\n",
    "prod_dict['URL']=[]"
   ]
  },
  {
   "cell_type": "code",
   "execution_count": null,
   "id": "f98f61b5",
   "metadata": {},
   "outputs": [],
   "source": [
    "for url in urls[:4]:\n",
    "    driver.get(url)                                                        # Loading the webpage by url\n",
    "    print(\"Scraping URL = \", url)\n",
    "    #time.sleep(2)\n",
    "    \n",
    "    try:\n",
    "        brand = driver.find_element(\"xpath\",'//a[@id=\"bylineInfo\"]')      # Extracting Brand from xpath\n",
    "        prod_dict['Brand'].append(brand.text)\n",
    "    except NoSuchElementException:\n",
    "        prod_dict['Brand'].append('-')\n",
    "    \n",
    "    try:\n",
    "        name = driver.find_element(\"xpath\",'//h1[@id=\"title\"]/span')      # Extracting Name from xpath\n",
    "        prod_dict['Name'].append(name.text)\n",
    "    except NoSuchElementException:\n",
    "        prod_dict['Name'].append('-')\n",
    "    \n",
    "    try:\n",
    "        rating = driver.find_element(\"xpath\",'//span[@id=\"acrPopover\"]')  # Extracting Ratings from xpath\n",
    "        prod_dict['Rating'].append(rating.get_attribute(\"title\"))\n",
    "    except NoSuchElementException:\n",
    "        prod_dict['Rating'].append('-')\n",
    "    \n",
    "    try:\n",
    "        n_rating = driver.find_element(\"xpath\",'//a[@id=\"acrCustomerReviewLink\"]/span')     # Extracting no. of Ratings from xpath\n",
    "        prod_dict['No. of ratings'].append(n_rating.text)\n",
    "    except NoSuchElementException:\n",
    "        prod_dict['No. of ratings'].append('-')\n",
    "    \n",
    "    try:\n",
    "        price = driver.find_element(\"xpath\",'//span[@id=\"priceblock_ourprice\"]')            # Extracting Price from xpath\n",
    "        prod_dict['Price'].append(price.text)\n",
    "    except NoSuchElementException:\n",
    "        prod_dict['Price'].append('-')\n",
    "    try:                                                                                     # Extracting Return/Exchange policy from xpath\n",
    "        ret = driver.find_element(\"xpath\",'//div[@data-name=\"RETURNS_POLICY\"]/span/div[2]/a')\n",
    "        prod_dict['Return/Exchange'].append(ret.text)\n",
    "    except NoSuchElementException:\n",
    "        prod_dict['Return/Exchange'].append('-')\n",
    "    try:\n",
    "        delivry = driver.find_element(\"xpath\",'//div[@id=\"ddmDeliveryMessage\"]/b')         # Extracting Expected Delivery from xpath\n",
    "        prod_dict['Expected Delivery'].append(delivry.text)\n",
    "    except NoSuchElementException:\n",
    "        prod_dict['Expected Delivery'].append('-')\n",
    "    \n",
    "    try:\n",
    "        avl = driver.find_element(\"xpath\",'//div[@id=\"availability\"]/span')                # Extracting Availability from xpath\n",
    "        prod_dict['Availability'].append(avl.text)\n",
    "    except NoSuchElementException:\n",
    "        prod_dict['Availability'].append('-')\n",
    "    \n",
    "    try:                                                                                    # Extracting Other Details from xpath\n",
    "        dtls = driver.find_element(\"xpath\",'//ul[@class=\"a-unordered-list a-vertical a-spacing-mini\"]')\n",
    "        prod_dict['Other Details'].append('  ||  '.join(dtls.text.split('\\n')))\n",
    "    except NoSuchElementException:\n",
    "        prod_dict['Other Details'].append('-')\n",
    "    \n",
    "    prod_dict['URL'].append(url)                                                            # Saving url\n",
    "    time.sleep(2)"
   ]
  },
  {
   "cell_type": "code",
   "execution_count": null,
   "id": "b475b4d1",
   "metadata": {},
   "outputs": [],
   "source": [
    "prod_df = pd.DataFrame.from_dict(prod_dict)\n",
    "prod_df"
   ]
  },
  {
   "cell_type": "code",
   "execution_count": null,
   "id": "a5b950a0",
   "metadata": {},
   "outputs": [],
   "source": [
    "#saving data to csv\n",
    "prod_df.to_csv('Amazon_{}.csv'.format(inputU))"
   ]
  },
  {
   "cell_type": "markdown",
   "id": "55c590d2",
   "metadata": {},
   "source": [
    "# Q3"
   ]
  },
  {
   "cell_type": "code",
   "execution_count": null,
   "id": "a75504a7",
   "metadata": {},
   "outputs": [],
   "source": [
    "driver= webdriver.Chrome('//Users/raj/Desktop/chromedriver')"
   ]
  },
  {
   "cell_type": "code",
   "execution_count": null,
   "id": "43f532d9",
   "metadata": {},
   "outputs": [],
   "source": [
    "driver.get('https://images.google.com/')"
   ]
  },
  {
   "cell_type": "code",
   "execution_count": null,
   "id": "add4cd4f",
   "metadata": {},
   "outputs": [],
   "source": [
    "search_bar = driver.find_element(\"xpath\",'/html/body/div[1]/div[3]/form/div[1]/div[1]/div[1]/div/div[2]/input')    # Finding the search bar using it's xpath\n",
    "search_bar.send_keys(\"fruits\")       # Inputing \"banana\" keyword to search rock images\n",
    "search_button = driver.find_element(\"xpath\",'/html/body/div[1]/div[3]/form/div[1]/div[1]/div[1]/button')    # Finding the xpath of search button\n",
    "search_button.click()        # Clicking the search button\n"
   ]
  },
  {
   "cell_type": "code",
   "execution_count": null,
   "id": "90af5a0f",
   "metadata": {},
   "outputs": [],
   "source": [
    "print(\"start scrolling to generate more images on the page...\")\n",
    "# 500 time we scroll down by 10000 in order to generate more images on the website\n",
    "for _ in range(500):\n",
    "    driver.execute_script(\"window.scrollBy(0,10000)\")"
   ]
  },
  {
   "cell_type": "code",
   "execution_count": null,
   "id": "67338848",
   "metadata": {},
   "outputs": [],
   "source": [
    "images = driver.find_elements(\"xpath\",'//img[@class=\"rg_i Q4LuWd\"]')"
   ]
  },
  {
   "cell_type": "code",
   "execution_count": null,
   "id": "94177c24",
   "metadata": {},
   "outputs": [],
   "source": [
    "img_urls = []\n",
    "img_data = []\n",
    "for image in images:\n",
    "    source= image.get_attribute('src')\n",
    "    if source is not None:\n",
    "        if(source[0:4] == 'http'):\n",
    "            img_urls.append(source)\n",
    "len(img_urls)"
   ]
  },
  {
   "cell_type": "code",
   "execution_count": null,
   "id": "8708e146",
   "metadata": {},
   "outputs": [],
   "source": [
    "for i in range(len(img_urls)):\n",
    "    if i >= 100:\n",
    "        break\n",
    "    print(\"Downloading {0} of {1} images\" .format(i, 100))\n",
    "    response= requests.get(img_urls[i])\n",
    "    file = open(\"/Users/raj/Desktop/banana/img\"+str(i)+\".jpg\", \"wb\")\n",
    "    file.write(response.content)"
   ]
  },
  {
   "cell_type": "markdown",
   "id": "f555da1a",
   "metadata": {},
   "source": [
    "#  Q4"
   ]
  },
  {
   "cell_type": "code",
   "execution_count": null,
   "id": "34084e93",
   "metadata": {},
   "outputs": [],
   "source": [
    "driver= webdriver.Chrome('//Users/raj/Desktop/chromedriver')\n",
    "url4=\"https://www.flipkart.com/search?q=smartphone&otracker=search&otracker1=search&marketplace=FLIPKART&as-show=on&as=off\"\n",
    "driver.get(url4)"
   ]
  },
  {
   "cell_type": "code",
   "execution_count": null,
   "id": "9dc9a76b",
   "metadata": {},
   "outputs": [],
   "source": [
    "Brand_Name=[]\n",
    "Colour=[]\n",
    "Storage_RAM_ROM=[]\n",
    "P_F_Camera=[]\n",
    "Display_size_Resolution=[]\n",
    "ProcessorAndCores=[]\n",
    "Battery=[]\n",
    "Price=[]\n",
    "Product_URL=[]"
   ]
  },
  {
   "cell_type": "code",
   "execution_count": null,
   "id": "b69c1159",
   "metadata": {},
   "outputs": [],
   "source": [
    "BName=driver.find_elements(\"xpath\",\"//div[@class='_4rR01T']\")\n",
    "for i in BName:\n",
    "    if i.text is None :\n",
    "        Brand_Name.append(\"--\") \n",
    "    else:\n",
    "        Brand_Name.append(i.text)\n",
    "print(len(Brand_Name),Brand_Name)"
   ]
  },
  {
   "cell_type": "code",
   "execution_count": null,
   "id": "76cd181d",
   "metadata": {},
   "outputs": [],
   "source": [
    "#scraping the Storage_RAM_ROM \n",
    "ram=driver.find_elements(\"xpath\",\"//ul[@class='_1xgFaf']//li[1]\")\n",
    "for i in ram:\n",
    "    if i.text is None :\n",
    "        Storage_RAM_ROM.append(\"--\") \n",
    "    else:\n",
    "        Storage_RAM_ROM.append(i.text)\n",
    "print(len(Storage_RAM_ROM),Storage_RAM_ROM)"
   ]
  },
  {
   "cell_type": "code",
   "execution_count": null,
   "id": "a100ca7f",
   "metadata": {},
   "outputs": [],
   "source": [
    "#scraping the P_F_Camera \n",
    "PC=driver.find_elements(\"xpath\",\"//ul[@class='_1xgFaf']//li[3]\")\n",
    "for i in PC:\n",
    "    if i.text is None :\n",
    "        P_F_Camera.append(\"--\") \n",
    "    else:\n",
    "        P_F_Camera.append(i.text)\n",
    "print(len(P_F_Camera),P_F_Camera)"
   ]
  },
  {
   "cell_type": "code",
   "execution_count": null,
   "id": "45b68205",
   "metadata": {},
   "outputs": [],
   "source": [
    "#scraping the Display_size_Resolution \n",
    "DS=driver.find_elements(\"xpath\",\"//ul[@class='_1xgFaf']//li[2]\")\n",
    "for i in DS:\n",
    "    if i.text is None :\n",
    "        Display_size_Resolution.append(\"--\") \n",
    "    else:\n",
    "        Display_size_Resolution.append(i.text)\n",
    "print(len(Display_size_Resolution),Display_size_Resolution)"
   ]
  },
  {
   "cell_type": "code",
   "execution_count": null,
   "id": "1ea150f7",
   "metadata": {},
   "outputs": [],
   "source": [
    "#scraping the ProcessorAndCores \n",
    "P=driver.find_elements(\"xpath\",\"//ul[@class='_1xgFaf']//li[5]\")\n",
    "for i in P:\n",
    "    if i.text is None :\n",
    "        ProcessorAndCores.append(\"--\") \n",
    "    else:\n",
    "        ProcessorAndCores.append(i.text)\n",
    "print(len(ProcessorAndCores),ProcessorAndCores)"
   ]
  },
  {
   "cell_type": "code",
   "execution_count": null,
   "id": "9ef93b49",
   "metadata": {},
   "outputs": [],
   "source": [
    "#scraping the Battery \n",
    "B=driver.find_elements(\"xpath\",\"//ul[@class='_1xgFaf']//li[4]\")\n",
    "for i in B:\n",
    "    if i.text is None :\n",
    "        Battery.append(\"--\") \n",
    "    else:\n",
    "        Battery.append(i.text)\n",
    "print(len(Battery),Battery)"
   ]
  },
  {
   "cell_type": "code",
   "execution_count": null,
   "id": "ed1af757",
   "metadata": {},
   "outputs": [],
   "source": [
    "#scraping the Price \n",
    "price=driver.find_elements(\"xpath\",\"//div[@class='_30jeq3 _1_WHN1']\")\n",
    "for i in price:\n",
    "    if i.text is None :\n",
    "        Price.append(\"--\") \n",
    "    else:\n",
    "        Price.append(i.text)\n",
    "print(len(Price),Price)"
   ]
  },
  {
   "cell_type": "code",
   "execution_count": null,
   "id": "63f2e2aa",
   "metadata": {},
   "outputs": [],
   "source": [
    "FlipKart=pd.DataFrame([])\n",
    "FlipKart['Brand_Name']=Brand_Name\n",
    "FlipKart['Storage_RAM_ROM']=Storage_RAM_ROM\n",
    "FlipKart['Amount P_F_Camera']=P_F_Camera\n",
    "FlipKart['Display_size_Resolution']=Display_size_Resolution\n",
    "FlipKart['ProcessorAndCores']=ProcessorAndCores\n",
    "FlipKart['Battery']=Battery\n",
    "FlipKart['Price']=Price\n",
    "\n",
    "FlipKart"
   ]
  },
  {
   "cell_type": "markdown",
   "id": "9989e86c",
   "metadata": {},
   "source": [
    "#  Q5"
   ]
  },
  {
   "cell_type": "code",
   "execution_count": null,
   "id": "bb3cc38f",
   "metadata": {},
   "outputs": [],
   "source": [
    "driver= webdriver.Chrome('//Users/raj/Desktop/chromedriver')"
   ]
  },
  {
   "cell_type": "code",
   "execution_count": null,
   "id": "7093f732",
   "metadata": {},
   "outputs": [],
   "source": [
    "# opening google maps\n",
    "driver.get(\"https://www.google.co.in/maps\")\n",
    "time.sleep(3)\n",
    "\n",
    "city = input('Enter City Name : ')                                         # Enter city to be searched\n",
    "search = driver.find_element('id','searchboxinput')                       # locating search bar\n",
    "search.clear()                                                             # clearing search bar\n",
    "time.sleep(2)\n",
    "search.send_keys(city)                                                     # entering values in search bar\n",
    "button = driver.find_element('id',\"searchbox-searchbutton\")               # locating search button\n",
    "button.click()                                                             # clicking search button\n",
    "time.sleep(3)\n",
    "\n",
    "try:\n",
    "    url_string = driver.current_url\n",
    "    print(\"URL Extracted: \", url_string)\n",
    "    lat_lng = re.findall(r'@(.*)data',url_string)\n",
    "    if len(lat_lng):\n",
    "        lat_lng_list = lat_lng[0].split(\",\")\n",
    "        if len(lat_lng_list)>=2:\n",
    "            lat = lat_lng_list[0]\n",
    "            lng = lat_lng_list[1]\n",
    "        print(\"Latitude = {}, Longitude = {}\".format(lat, lng))\n",
    "\n",
    "except Exception as e:\n",
    "        print(\"Error: \", str(e))"
   ]
  },
  {
   "cell_type": "markdown",
   "id": "fe0b4ce9",
   "metadata": {},
   "source": [
    "# Q7"
   ]
  },
  {
   "cell_type": "code",
   "execution_count": null,
   "id": "76c5fb47",
   "metadata": {},
   "outputs": [],
   "source": [
    "driver= webdriver.Chrome('//Users/raj/Desktop/chromedriver')"
   ]
  },
  {
   "cell_type": "code",
   "execution_count": null,
   "id": "ccdbae34",
   "metadata": {},
   "outputs": [],
   "source": [
    "url=\"https://www.digit.in/top-products/best-gaming-laptops-40.html\""
   ]
  },
  {
   "cell_type": "code",
   "execution_count": null,
   "id": "e4d5b3a9",
   "metadata": {},
   "outputs": [],
   "source": [
    "driver.get(url)"
   ]
  },
  {
   "cell_type": "code",
   "execution_count": null,
   "id": "0aec5bee",
   "metadata": {},
   "outputs": [],
   "source": [
    "Brands=[]\n",
    "Products_Description=[]\n",
    "Specification=[]\n",
    "Price=[]"
   ]
  },
  {
   "cell_type": "code",
   "execution_count": null,
   "id": "4dc62946",
   "metadata": {},
   "outputs": [],
   "source": [
    "br=driver.find_elements(\"xpath\",\"//div[@class='TopNumbeHeading']\")\n",
    "len(br)"
   ]
  },
  {
   "cell_type": "code",
   "execution_count": null,
   "id": "7b00a601",
   "metadata": {},
   "outputs": [],
   "source": [
    "for i in br:\n",
    "   \n",
    "    Brands.append(str(i.text).replace(\"\\n\",\"\"))\n",
    "Brands"
   ]
  },
  {
   "cell_type": "code",
   "execution_count": null,
   "id": "73451609",
   "metadata": {},
   "outputs": [],
   "source": [
    "sp=driver.find_elements(\"xpath\",\"//div[@class='Specs-Wrap']\")\n",
    "len(sp)"
   ]
  },
  {
   "cell_type": "code",
   "execution_count": null,
   "id": "54afca8e",
   "metadata": {},
   "outputs": [],
   "source": [
    "for i in sp:\n",
    "   \n",
    "    Specification.append(str(i.text).replace(\"\\n\",\"\"))\n",
    "Specification"
   ]
  },
  {
   "cell_type": "code",
   "execution_count": null,
   "id": "61136305",
   "metadata": {},
   "outputs": [],
   "source": [
    "des=driver.find_elements(\"xpath\",\"//div[@class='Section-center']\")\n",
    "len(des)"
   ]
  },
  {
   "cell_type": "code",
   "execution_count": null,
   "id": "26bd7818",
   "metadata": {},
   "outputs": [],
   "source": [
    "for i in des:\n",
    "   \n",
    "    Products_Description.append(str(i.text).replace(\"\\n\",\"\"))\n",
    "Products_Description"
   ]
  },
  {
   "cell_type": "code",
   "execution_count": null,
   "id": "f77fea84",
   "metadata": {},
   "outputs": [],
   "source": [
    "pri=driver.find_elements(\"xpath\",\"//td[@class='smprice']\")\n",
    "len(pri)"
   ]
  },
  {
   "cell_type": "code",
   "execution_count": null,
   "id": "dd20c854",
   "metadata": {},
   "outputs": [],
   "source": [
    "for i in pri:\n",
    "   \n",
    "    Price.append(str(i.text).replace(\"\\n\",\"\"))\n",
    "Price"
   ]
  },
  {
   "cell_type": "code",
   "execution_count": null,
   "id": "4b18cbca",
   "metadata": {},
   "outputs": [],
   "source": [
    "digit_lap=pd.DataFrame([])\n",
    "digit_lap['Brands']=Brands[0:10]\n",
    "digit_lap['Price']=Price[0:10]\n",
    "digit_lap['Specification']=Specification[0:10]\n",
    "digit_lap['Description']=Products_Description[0:10]\n",
    "digit_lap"
   ]
  },
  {
   "cell_type": "markdown",
   "id": "da452978",
   "metadata": {},
   "source": [
    "# Q9"
   ]
  },
  {
   "cell_type": "code",
   "execution_count": null,
   "id": "5b34e82b",
   "metadata": {},
   "outputs": [],
   "source": [
    "driver= webdriver.Chrome('//Users/raj/Desktop/chromedriver')"
   ]
  },
  {
   "cell_type": "code",
   "execution_count": null,
   "id": "d9be472e",
   "metadata": {},
   "outputs": [],
   "source": []
  }
 ],
 "metadata": {
  "kernelspec": {
   "display_name": "Python 3 (ipykernel)",
   "language": "python",
   "name": "python3"
  },
  "language_info": {
   "codemirror_mode": {
    "name": "ipython",
    "version": 3
   },
   "file_extension": ".py",
   "mimetype": "text/x-python",
   "name": "python",
   "nbconvert_exporter": "python",
   "pygments_lexer": "ipython3",
   "version": "3.9.13"
  }
 },
 "nbformat": 4,
 "nbformat_minor": 5
}
